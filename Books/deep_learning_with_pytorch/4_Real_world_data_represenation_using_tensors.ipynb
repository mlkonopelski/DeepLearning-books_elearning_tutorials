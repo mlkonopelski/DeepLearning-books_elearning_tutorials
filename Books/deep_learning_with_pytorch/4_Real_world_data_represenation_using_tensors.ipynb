{
 "cells": [
  {
   "cell_type": "code",
   "execution_count": 3,
   "id": "e00a1b5e-da38-4be7-8383-90a94451455c",
   "metadata": {},
   "outputs": [],
   "source": [
    "import torch\n",
    "import imageio"
   ]
  },
  {
   "cell_type": "code",
   "execution_count": 5,
   "id": "9d82f4ba-73e6-40d5-a52a-0e0287a87e17",
   "metadata": {},
   "outputs": [],
   "source": [
    "img = 'cover.jpeg'"
   ]
  },
  {
   "cell_type": "code",
   "execution_count": 9,
   "id": "043b10c6-a7c1-4d7c-99e9-474d2a3446b0",
   "metadata": {},
   "outputs": [],
   "source": [
    "img_numpy = imageio.imread(img)"
   ]
  },
  {
   "cell_type": "markdown",
   "id": "c0d09379-4e73-42b8-9adb-dc5d6965145b",
   "metadata": {},
   "source": [
    "## 4.1.3 Chaning the layout\n",
    "\n",
    "image libraries usually outputs W x H x C while\n",
    "torch needs C x W x H"
   ]
  },
  {
   "cell_type": "code",
   "execution_count": 10,
   "id": "9dc37249-92bb-4593-9c07-239999041b3f",
   "metadata": {},
   "outputs": [],
   "source": [
    "img = torch.from_numpy(img_numpy)"
   ]
  },
  {
   "cell_type": "code",
   "execution_count": 12,
   "id": "cf9ed319-f6b5-41ab-bd9e-09c4d10b66ac",
   "metadata": {},
   "outputs": [],
   "source": [
    "img = img.permute(2, 0, 1)"
   ]
  },
  {
   "cell_type": "code",
   "execution_count": 14,
   "id": "35ee300e-5908-4c7b-9cc6-1cfc78918d02",
   "metadata": {},
   "outputs": [
    {
     "data": {
      "text/plain": [
       "torch.Size([3, 251, 201])"
      ]
     },
     "execution_count": 14,
     "metadata": {},
     "output_type": "execute_result"
    }
   ],
   "source": [
    "img.shape"
   ]
  },
  {
   "cell_type": "code",
   "execution_count": 15,
   "id": "e7f4f90e-14bc-42b5-9826-bb91ca88600f",
   "metadata": {},
   "outputs": [
    {
     "data": {
      "text/plain": [
       "torch.uint8"
      ]
     },
     "execution_count": 15,
     "metadata": {},
     "output_type": "execute_result"
    }
   ],
   "source": [
    "img.dtype"
   ]
  },
  {
   "cell_type": "code",
   "execution_count": null,
   "id": "838bf2ad-62aa-456e-bade-1e54c8f90acb",
   "metadata": {},
   "outputs": [],
   "source": []
  }
 ],
 "metadata": {
  "kernelspec": {
   "display_name": "Python 3 (ipykernel)",
   "language": "python",
   "name": "python3"
  },
  "language_info": {
   "codemirror_mode": {
    "name": "ipython",
    "version": 3
   },
   "file_extension": ".py",
   "mimetype": "text/x-python",
   "name": "python",
   "nbconvert_exporter": "python",
   "pygments_lexer": "ipython3",
   "version": "3.10.8"
  }
 },
 "nbformat": 4,
 "nbformat_minor": 5
}
