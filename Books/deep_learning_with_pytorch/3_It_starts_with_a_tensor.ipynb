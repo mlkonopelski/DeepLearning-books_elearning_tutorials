{
 "cells": [
  {
   "cell_type": "code",
   "execution_count": 2,
   "id": "a75d54e7-89b2-40e6-a6cf-a606e9adfc16",
   "metadata": {},
   "outputs": [],
   "source": [
    "import torch\n",
    "import numpy as np"
   ]
  },
  {
   "cell_type": "markdown",
   "id": "498d38b1-e588-4ccf-b299-36e05943d322",
   "metadata": {},
   "source": [
    "## 3.3 Constructing Tensor"
   ]
  },
  {
   "cell_type": "code",
   "execution_count": 44,
   "id": "25d82a25-9437-4514-b99e-7c8ad2ba911e",
   "metadata": {},
   "outputs": [
    {
     "data": {
      "text/plain": [
       "tensor([[0.0205, 0.5319, 0.9332],\n",
       "        [0.8305, 0.0015, 0.8126],\n",
       "        [0.7429, 0.9841, 0.5914],\n",
       "        [0.6943, 0.3579, 0.8555]])"
      ]
     },
     "execution_count": 44,
     "metadata": {},
     "output_type": "execute_result"
    }
   ],
   "source": [
    "x = torch.rand(4, 3, dtype=torch.float32)\n",
    "x"
   ]
  },
  {
   "cell_type": "code",
   "execution_count": 45,
   "id": "6ac80d8e-fa75-44af-b437-a858d913f13b",
   "metadata": {},
   "outputs": [
    {
     "data": {
      "text/plain": [
       "tensor([0.8305, 0.0015, 0.8126])"
      ]
     },
     "execution_count": 45,
     "metadata": {},
     "output_type": "execute_result"
    }
   ],
   "source": [
    "x[1]"
   ]
  },
  {
   "cell_type": "code",
   "execution_count": 49,
   "id": "5f127351-c152-4d89-b75f-7e68bf40090c",
   "metadata": {},
   "outputs": [
    {
     "data": {
      "text/plain": [
       "tensor([[0.8305, 0.0015, 0.8126],\n",
       "        [0.7429, 0.9841, 0.5914]])"
      ]
     },
     "execution_count": 49,
     "metadata": {},
     "output_type": "execute_result"
    }
   ],
   "source": [
    "# 2nd and 3rd row\n",
    "x[1:3, :]"
   ]
  },
  {
   "cell_type": "code",
   "execution_count": 47,
   "id": "f81c0b79-dd34-4391-8775-7f12244afb78",
   "metadata": {},
   "outputs": [
    {
     "data": {
      "text/plain": [
       "tensor([0.5319, 0.0015, 0.9841, 0.3579])"
      ]
     },
     "execution_count": 47,
     "metadata": {},
     "output_type": "execute_result"
    }
   ],
   "source": [
    "# 2nd column\n",
    "x[:, 1]"
   ]
  },
  {
   "cell_type": "code",
   "execution_count": 51,
   "id": "2184897a-927b-4199-929a-b1247856aa66",
   "metadata": {},
   "outputs": [
    {
     "data": {
      "text/plain": [
       "tensor(0.0015)"
      ]
     },
     "execution_count": 51,
     "metadata": {},
     "output_type": "execute_result"
    }
   ],
   "source": [
    "# 2nd row and 2 column\n",
    "x[1, 1]"
   ]
  },
  {
   "cell_type": "markdown",
   "id": "b4d07814-06e7-467f-89b0-be8fbd62c77a",
   "metadata": {},
   "source": [
    "## 3.4 Named Tensors"
   ]
  },
  {
   "cell_type": "markdown",
   "id": "384045da-76e9-4480-a7a2-606c9d59831b",
   "metadata": {},
   "source": [
    "### Create named vector"
   ]
  },
  {
   "cell_type": "code",
   "execution_count": 18,
   "id": "7575afdd-32a3-48e9-ab2b-3aee68149eac",
   "metadata": {
    "tags": []
   },
   "outputs": [
    {
     "data": {
      "text/plain": [
       "(torch.Size([32, 2, 28, 28]), (None, 'colors', 'width', 'height'))"
      ]
     },
     "execution_count": 18,
     "metadata": {},
     "output_type": "execute_result"
    }
   ],
   "source": [
    "x = torch.rand(32, 2, 28, 28)\n",
    "x = x.refine_names(..., 'colors', 'width', 'height')\n",
    "x.shape, x.names"
   ]
  },
  {
   "cell_type": "code",
   "execution_count": 23,
   "id": "61c85175-5c70-4753-beb5-0baf648e7e31",
   "metadata": {},
   "outputs": [
    {
     "data": {
      "text/plain": [
       "(torch.Size([32, 3, 28, 28]), ('batch_size', 'colors', 'width', 'height'))"
      ]
     },
     "execution_count": 23,
     "metadata": {},
     "output_type": "execute_result"
    }
   ],
   "source": [
    "x = torch.rand(32, 3, 28, 28, names=['batch_size', 'colors', 'width', 'height'])\n",
    "x.shape, x.names"
   ]
  },
  {
   "cell_type": "markdown",
   "id": "0889ed4f-3144-4347-886b-b71214ccd616",
   "metadata": {},
   "source": [
    "### run operations"
   ]
  },
  {
   "cell_type": "code",
   "execution_count": 28,
   "id": "e681a6f0-76ce-4eee-adad-a5bd047dc37b",
   "metadata": {},
   "outputs": [
    {
     "data": {
      "text/plain": [
       "(torch.Size([32, 1]), ('batch_size', 'colors'))"
      ]
     },
     "execution_count": 28,
     "metadata": {},
     "output_type": "execute_result"
    }
   ],
   "source": [
    "weights = torch.rand(32, 1, names=['batch_size', 'colors'])\n",
    "weights.shape, weights.names"
   ]
  },
  {
   "cell_type": "code",
   "execution_count": 30,
   "id": "67249b49-30fd-42df-a831-4b3ddadf5c94",
   "metadata": {},
   "outputs": [
    {
     "data": {
      "text/plain": [
       "(torch.Size([32, 1, 1, 1]), ('batch_size', 'colors', 'width', 'height'))"
      ]
     },
     "execution_count": 30,
     "metadata": {},
     "output_type": "execute_result"
    }
   ],
   "source": [
    "weights_aligned = weights.align_as(x)\n",
    "weights_aligned.shape, weights_aligned.names"
   ]
  },
  {
   "cell_type": "code",
   "execution_count": 33,
   "id": "c4060f82-eb65-416f-9fa5-8d664b6a9253",
   "metadata": {},
   "outputs": [
    {
     "data": {
      "text/plain": [
       "(torch.Size([32, 28, 28]), ('batch_size', 'width', 'height'))"
      ]
     },
     "execution_count": 33,
     "metadata": {},
     "output_type": "execute_result"
    }
   ],
   "source": [
    "mul = (x * weights_aligned).sum('colors')\n",
    "mul.shape, mul.names"
   ]
  },
  {
   "cell_type": "code",
   "execution_count": 35,
   "id": "cca72d7d-5f1f-40b5-a67e-756fb6ee357c",
   "metadata": {},
   "outputs": [
    {
     "data": {
      "text/plain": [
       "(torch.Size([32, 28, 28]), (None, None, None))"
      ]
     },
     "execution_count": 35,
     "metadata": {},
     "output_type": "execute_result"
    }
   ],
   "source": [
    "mul = mul.rename(None)\n",
    "mul.shape, mul.names"
   ]
  },
  {
   "cell_type": "markdown",
   "id": "c7dbc63c-65f7-40e8-ad02-ef98787b1cc7",
   "metadata": {},
   "source": [
    "## 3.5 Tensor element types"
   ]
  },
  {
   "cell_type": "markdown",
   "id": "128b0f19-4628-48da-988f-19b2b7fe5253",
   "metadata": {},
   "source": [
    "### 3.5.2 indexing using tensor"
   ]
  },
  {
   "cell_type": "code",
   "execution_count": 58,
   "id": "574699ed-125b-4c6e-af15-190e199c46a3",
   "metadata": {},
   "outputs": [
    {
     "data": {
      "text/plain": [
       "tensor([[0.7429, 0.9841, 0.5914],\n",
       "        [0.7429, 0.9841, 0.5914]])"
      ]
     },
     "execution_count": 58,
     "metadata": {},
     "output_type": "execute_result"
    }
   ],
   "source": [
    "ix = torch.Tensor([2, 2])\n",
    "ix = ix.type(torch.int64) # this dtype is mandatory\n",
    "x[ix]"
   ]
  },
  {
   "cell_type": "markdown",
   "id": "8656d1e5-d70f-4edb-a886-ddbc62abda1d",
   "metadata": {},
   "source": [
    "### 3.5.3 ways of setting dtype"
   ]
  },
  {
   "cell_type": "code",
   "execution_count": 60,
   "id": "3a5e6398-4a4c-4b14-9ed0-3219dbfc9ffc",
   "metadata": {},
   "outputs": [],
   "source": [
    "x = torch.ones(2, 2, dtype=torch.float)"
   ]
  },
  {
   "cell_type": "code",
   "execution_count": 61,
   "id": "8e23e343-49f1-41b6-a353-bb4ab0418abe",
   "metadata": {},
   "outputs": [],
   "source": [
    "x = torch.ones(2, 2).float()"
   ]
  },
  {
   "cell_type": "code",
   "execution_count": 63,
   "id": "6f95f7c6-8048-4ef5-a14b-3e4fa697f59f",
   "metadata": {},
   "outputs": [],
   "source": [
    "x = torch.ones(2, 2).to(dtype=torch.float)"
   ]
  },
  {
   "cell_type": "code",
   "execution_count": 64,
   "id": "8db3710d-5842-4abf-b441-ace44c3a9cbd",
   "metadata": {},
   "outputs": [
    {
     "data": {
      "text/plain": [
       "torch.float64"
      ]
     },
     "execution_count": 64,
     "metadata": {},
     "output_type": "execute_result"
    }
   ],
   "source": [
    "# dtypes are automatically cast to bigger during operations\n",
    "x_32 = torch.rand(5, dtype=torch.float)\n",
    "x_64 = torch.rand(5, dtype=torch.double)\n",
    "(x_32 * x_64).dtype"
   ]
  },
  {
   "cell_type": "markdown",
   "id": "68a33625-9c71-40c2-a805-f3e4e25332dd",
   "metadata": {},
   "source": [
    "## 3.6 the Tensor API"
   ]
  },
  {
   "cell_type": "markdown",
   "id": "d908013c-69f8-458c-89a8-cf526019d5ea",
   "metadata": {},
   "source": [
    "Operations on the tensor can be both coded as function of tensor module or method of a tensor"
   ]
  },
  {
   "cell_type": "code",
   "execution_count": 10,
   "id": "a41c708c-082a-4ed6-9d64-27021a897a9f",
   "metadata": {},
   "outputs": [
    {
     "data": {
      "text/plain": [
       "(torch.Size([1, 6]), torch.Size([6, 1]))"
      ]
     },
     "execution_count": 10,
     "metadata": {},
     "output_type": "execute_result"
    }
   ],
   "source": [
    "a = torch.ones(1, 6)\n",
    "\n",
    "b = torch.transpose(a, 0, 1)\n",
    "a.shape, b.shape"
   ]
  },
  {
   "cell_type": "code",
   "execution_count": 13,
   "id": "a162991c-caf0-405d-83ff-a7279178c91f",
   "metadata": {},
   "outputs": [
    {
     "data": {
      "text/plain": [
       "(torch.Size([1, 6]), torch.Size([6, 1]))"
      ]
     },
     "execution_count": 13,
     "metadata": {},
     "output_type": "execute_result"
    }
   ],
   "source": [
    "b = a.transpose(0, 1)\n",
    "a.shape, b.shape"
   ]
  },
  {
   "cell_type": "markdown",
   "id": "9aa1f5b5-2106-4470-9b77-77d01ec67585",
   "metadata": {},
   "source": [
    "## 3.8 Tensor metadata: Size, offset, and stride"
   ]
  },
  {
   "cell_type": "markdown",
   "id": "96511da6-e257-49ef-a366-52cdc8a5ed96",
   "metadata": {},
   "source": [
    "### 3.8.1 Views of another tensor’s storage"
   ]
  },
  {
   "cell_type": "code",
   "execution_count": 18,
   "id": "80be519b-c952-443e-9a2e-ddea97c9455e",
   "metadata": {},
   "outputs": [
    {
     "data": {
      "text/plain": [
       "tensor([[0.9064, 0.7384],\n",
       "        [0.4312, 0.6706],\n",
       "        [0.6488, 0.2602],\n",
       "        [0.9775, 0.6646],\n",
       "        [0.9423, 0.7460]])"
      ]
     },
     "execution_count": 18,
     "metadata": {},
     "output_type": "execute_result"
    }
   ],
   "source": [
    "points = torch.rand(5, 2)\n",
    "points"
   ]
  },
  {
   "cell_type": "code",
   "execution_count": 19,
   "id": "42f62c3a-28d3-4bdc-b1d1-3f66b6d8ed5f",
   "metadata": {},
   "outputs": [
    {
     "data": {
      "text/plain": [
       "tensor([[0.9064, 0.7384],\n",
       "        [1.0000, 0.6706],\n",
       "        [0.6488, 0.2602],\n",
       "        [0.9775, 0.6646],\n",
       "        [0.9423, 0.7460]])"
      ]
     },
     "execution_count": 19,
     "metadata": {},
     "output_type": "execute_result"
    }
   ],
   "source": [
    "# Changes value of subtensor will change value in original tensor\n",
    "second_point = points[1]\n",
    "second_point[0] = 1\n",
    "points"
   ]
  },
  {
   "cell_type": "code",
   "execution_count": 20,
   "id": "3bc2ff91-0a1b-49f7-8aa5-401a93d4065a",
   "metadata": {},
   "outputs": [
    {
     "data": {
      "text/plain": [
       "(tensor([1.0000, 0.2602]),\n",
       " tensor([[0.9064, 0.7384],\n",
       "         [1.0000, 0.6706],\n",
       "         [0.6488, 0.2602],\n",
       "         [0.9775, 0.6646],\n",
       "         [0.9423, 0.7460]]))"
      ]
     },
     "execution_count": 20,
     "metadata": {},
     "output_type": "execute_result"
    }
   ],
   "source": [
    "# if you create a copy it will allocate new storage for this suntensor\n",
    "third_point = points[2].clone()\n",
    "third_point[0] = 1\n",
    "third_point, points"
   ]
  },
  {
   "cell_type": "markdown",
   "id": "d1de2b60-58bb-466c-b3e8-3fa6344b7fd4",
   "metadata": {},
   "source": [
    "## 3.10 NumPy itneroperability"
   ]
  },
  {
   "cell_type": "code",
   "execution_count": 24,
   "id": "5cd72912-0fe5-49f0-8c0a-22788f7982ce",
   "metadata": {},
   "outputs": [
    {
     "data": {
      "text/plain": [
       "5376411760"
      ]
     },
     "execution_count": 24,
     "metadata": {},
     "output_type": "execute_result"
    }
   ],
   "source": [
    "arr = np.random.rand(3, 3)\n",
    "id(arr)"
   ]
  },
  {
   "cell_type": "code",
   "execution_count": 25,
   "id": "0eef3eeb-af1b-4fee-8855-675cdd903aa8",
   "metadata": {},
   "outputs": [
    {
     "data": {
      "text/plain": [
       "5379030000"
      ]
     },
     "execution_count": 25,
     "metadata": {},
     "output_type": "execute_result"
    }
   ],
   "source": [
    "arr_tensor = torch.from_numpy(arr)\n",
    "id(arr_tensor)"
   ]
  },
  {
   "cell_type": "markdown",
   "id": "ca9ef324-ec2b-4793-8617-4eee0f9ced2d",
   "metadata": {},
   "source": [
    "## 3.12 Serializing Tensor"
   ]
  },
  {
   "cell_type": "code",
   "execution_count": 26,
   "id": "86890b71-fa62-4502-aa88-d725b6ad058a",
   "metadata": {},
   "outputs": [],
   "source": [
    "torch.save(arr_tensor, 'data/arr-tensor.t')"
   ]
  },
  {
   "cell_type": "code",
   "execution_count": 27,
   "id": "43b90bee-f86a-4899-9a6e-2b1caa509584",
   "metadata": {},
   "outputs": [],
   "source": [
    "arr_tensor_loaded = torch.load('data/arr-tensor.t')"
   ]
  },
  {
   "cell_type": "markdown",
   "id": "4eddadef-e7a3-4084-b6e2-00b28886176b",
   "metadata": {},
   "source": [
    "### 3.12.1 Serializing to HDF5 with h5py"
   ]
  },
  {
   "cell_type": "code",
   "execution_count": 29,
   "id": "7eefac7c-d155-4d51-8bc8-f0793488dfa6",
   "metadata": {},
   "outputs": [],
   "source": [
    "import h5py"
   ]
  },
  {
   "cell_type": "code",
   "execution_count": 35,
   "id": "73f80687-ffef-406b-a234-feed3edea8d0",
   "metadata": {},
   "outputs": [],
   "source": [
    "points_tensor = torch.rand(100, 100)\n",
    "points_numpy = points_tensor.numpy()"
   ]
  },
  {
   "cell_type": "code",
   "execution_count": 38,
   "id": "78868fd1-6cdb-415b-8d39-7515c74881ce",
   "metadata": {},
   "outputs": [],
   "source": [
    "# save matrix as file"
   ]
  },
  {
   "cell_type": "code",
   "execution_count": 34,
   "id": "1997172e-d367-4b60-a42b-25e1cca65c3c",
   "metadata": {},
   "outputs": [],
   "source": [
    "points_file = h5py.File(name='data/random_point_coord.h5', mode='w') "
   ]
  },
  {
   "cell_type": "code",
   "execution_count": 36,
   "id": "33daf4d9-1b14-4191-9d18-62371de81188",
   "metadata": {},
   "outputs": [
    {
     "data": {
      "text/plain": [
       "<HDF5 dataset \"coords\": shape (100, 100), type \"<f4\">"
      ]
     },
     "execution_count": 36,
     "metadata": {},
     "output_type": "execute_result"
    }
   ],
   "source": [
    "points_file.create_dataset(name='coords', data=points_numpy)"
   ]
  },
  {
   "cell_type": "code",
   "execution_count": 37,
   "id": "28483ed1-0191-4e1a-bc27-1826993f6442",
   "metadata": {},
   "outputs": [],
   "source": [
    "points_file.close()"
   ]
  },
  {
   "cell_type": "code",
   "execution_count": 39,
   "id": "54cbd529-7386-481c-8b5c-f99ab18c0b68",
   "metadata": {},
   "outputs": [],
   "source": [
    "# read elements of matrix without loading whole matri"
   ]
  },
  {
   "cell_type": "code",
   "execution_count": 40,
   "id": "12bf2b9f-720f-40f3-b4fb-36dc09c550ba",
   "metadata": {},
   "outputs": [],
   "source": [
    "points_file = h5py.File(name='data/random_point_coord.h5', mode='r')\n",
    "points = points_file['coords']"
   ]
  },
  {
   "cell_type": "code",
   "execution_count": 42,
   "id": "e4d6fba7-9f9c-4ad4-a839-6753871ee22f",
   "metadata": {},
   "outputs": [
    {
     "data": {
      "text/plain": [
       "0.017864108"
      ]
     },
     "execution_count": 42,
     "metadata": {},
     "output_type": "execute_result"
    }
   ],
   "source": [
    "# Only ow we read part of matrix into memory\n",
    "points[69, 69]"
   ]
  },
  {
   "cell_type": "code",
   "execution_count": 43,
   "id": "9899ad1d-b6bd-48d5-abb0-9d9e9b25405d",
   "metadata": {},
   "outputs": [],
   "source": [
    "points_file.close()"
   ]
  },
  {
   "cell_type": "markdown",
   "id": "eea1a763-9ffa-42c1-b6a1-63ef52c2157d",
   "metadata": {},
   "source": [
    "## 3.14 Exercise"
   ]
  },
  {
   "cell_type": "code",
   "execution_count": 44,
   "id": "8995ff48-99fc-4e88-9991-960f6ba48cd7",
   "metadata": {},
   "outputs": [],
   "source": [
    "a = torch.from_numpy(np.array(list(range(9))))"
   ]
  },
  {
   "cell_type": "code",
   "execution_count": 54,
   "id": "4fdc1f9a-3d54-44c0-89b6-fb1a467fb954",
   "metadata": {},
   "outputs": [
    {
     "data": {
      "text/plain": [
       "tensor([0, 1, 2, 3, 4, 5, 6, 7, 8])"
      ]
     },
     "execution_count": 54,
     "metadata": {},
     "output_type": "execute_result"
    }
   ],
   "source": [
    "a"
   ]
  },
  {
   "cell_type": "code",
   "execution_count": 60,
   "id": "d71ab658-0675-477e-8238-158cf7c119a0",
   "metadata": {},
   "outputs": [
    {
     "name": "stderr",
     "output_type": "stream",
     "text": [
      "/var/folders/pc/0ygcdhb96px_y8nf8nzzgr8m0000gn/T/ipykernel_60517/214256462.py:1: UserWarning: TypedStorage is deprecated. It will be removed in the future and UntypedStorage will be the only storage class. This should only matter to you if you are using storages directly.  To access UntypedStorage directly, use tensor.untyped_storage() instead of tensor.storage()\n",
      "  a.storage()\n"
     ]
    },
    {
     "data": {
      "text/plain": [
       " 0\n",
       " 1\n",
       " 2\n",
       " 3\n",
       " 4\n",
       " 5\n",
       " 6\n",
       " 7\n",
       " 8\n",
       "[torch.storage.TypedStorage(dtype=torch.int64, device=cpu) of size 9]"
      ]
     },
     "execution_count": 60,
     "metadata": {},
     "output_type": "execute_result"
    }
   ],
   "source": [
    "a.storage()"
   ]
  },
  {
   "cell_type": "code",
   "execution_count": 47,
   "id": "514b7ef6-4234-48aa-894c-945ee2ae95f5",
   "metadata": {},
   "outputs": [
    {
     "data": {
      "text/plain": [
       "(torch.Size([9]), (1,), 0)"
      ]
     },
     "execution_count": 47,
     "metadata": {},
     "output_type": "execute_result"
    }
   ],
   "source": [
    "a.size(), a.stride(), a.storage_offset()"
   ]
  },
  {
   "cell_type": "code",
   "execution_count": 61,
   "id": "579386e4-799f-45a9-8cf9-ed988cc9e05b",
   "metadata": {},
   "outputs": [
    {
     "data": {
      "text/plain": [
       "(torch.Size([3, 3]), (3, 1), 0)"
      ]
     },
     "execution_count": 61,
     "metadata": {},
     "output_type": "execute_result"
    }
   ],
   "source": [
    "b = a.view(3, 3)\n",
    "b.size(), b.stride(), b.storage_offset()"
   ]
  },
  {
   "cell_type": "code",
   "execution_count": 55,
   "id": "f062c957-daee-4030-b3e3-eebf46a60a8f",
   "metadata": {},
   "outputs": [
    {
     "data": {
      "text/plain": [
       "tensor([[0, 1, 2],\n",
       "        [3, 4, 5],\n",
       "        [6, 7, 8]])"
      ]
     },
     "execution_count": 55,
     "metadata": {},
     "output_type": "execute_result"
    }
   ],
   "source": [
    "b"
   ]
  },
  {
   "cell_type": "code",
   "execution_count": 50,
   "id": "0c4c769d-bb9c-4f3b-9e0c-e1aaf95de7e9",
   "metadata": {},
   "outputs": [
    {
     "data": {
      "text/plain": [
       "(5488802480, 5381111952)"
      ]
     },
     "execution_count": 50,
     "metadata": {},
     "output_type": "execute_result"
    }
   ],
   "source": [
    "id(a),id(b)"
   ]
  },
  {
   "cell_type": "code",
   "execution_count": 62,
   "id": "563b4761-c9a5-4450-9367-ef4b7d89cd27",
   "metadata": {},
   "outputs": [
    {
     "data": {
      "text/plain": [
       "(5376058736, torch.Size([2, 2]), (3, 1), 4)"
      ]
     },
     "execution_count": 62,
     "metadata": {},
     "output_type": "execute_result"
    }
   ],
   "source": [
    "c = b[1:, 1:]\n",
    "id(c), c.size(), c.stride(), c.storage_offset()"
   ]
  },
  {
   "cell_type": "code",
   "execution_count": 63,
   "id": "9fd44407-4716-4747-9ba1-6f55c4430c89",
   "metadata": {},
   "outputs": [
    {
     "data": {
      "text/plain": [
       "tensor([0.0000, 1.0000, 1.4142, 1.7321, 2.0000, 2.2361, 2.4495, 2.6458, 2.8284])"
      ]
     },
     "execution_count": 63,
     "metadata": {},
     "output_type": "execute_result"
    }
   ],
   "source": [
    "torch.sqrt(a)"
   ]
  },
  {
   "cell_type": "code",
   "execution_count": 64,
   "id": "3e0b39d8-74a8-42cd-a30a-337547210c5f",
   "metadata": {},
   "outputs": [
    {
     "data": {
      "text/plain": [
       "tensor([0.0000, 1.0000, 1.4142, 1.7321, 2.0000, 2.2361, 2.4495, 2.6458, 2.8284])"
      ]
     },
     "execution_count": 64,
     "metadata": {},
     "output_type": "execute_result"
    }
   ],
   "source": [
    "a.sqrt()"
   ]
  },
  {
   "cell_type": "code",
   "execution_count": 65,
   "id": "e5685d2b-1d63-4c5b-bfa1-0dfc22832b71",
   "metadata": {},
   "outputs": [
    {
     "ename": "RuntimeError",
     "evalue": "result type Float can't be cast to the desired output type Long",
     "output_type": "error",
     "traceback": [
      "\u001b[0;31m---------------------------------------------------------------------------\u001b[0m",
      "\u001b[0;31mRuntimeError\u001b[0m                              Traceback (most recent call last)",
      "Cell \u001b[0;32mIn[65], line 1\u001b[0m\n\u001b[0;32m----> 1\u001b[0m \u001b[43ma\u001b[49m\u001b[38;5;241;43m.\u001b[39;49m\u001b[43msqrt_\u001b[49m\u001b[43m(\u001b[49m\u001b[43m)\u001b[49m\n",
      "\u001b[0;31mRuntimeError\u001b[0m: result type Float can't be cast to the desired output type Long"
     ]
    }
   ],
   "source": [
    "a.sqrt_()"
   ]
  },
  {
   "cell_type": "code",
   "execution_count": null,
   "id": "43595559-0e01-44d4-8d45-8b69358223fc",
   "metadata": {},
   "outputs": [],
   "source": []
  }
 ],
 "metadata": {
  "kernelspec": {
   "display_name": "Python 3 (ipykernel)",
   "language": "python",
   "name": "python3"
  },
  "language_info": {
   "codemirror_mode": {
    "name": "ipython",
    "version": 3
   },
   "file_extension": ".py",
   "mimetype": "text/x-python",
   "name": "python",
   "nbconvert_exporter": "python",
   "pygments_lexer": "ipython3",
   "version": "3.10.8"
  }
 },
 "nbformat": 4,
 "nbformat_minor": 5
}
