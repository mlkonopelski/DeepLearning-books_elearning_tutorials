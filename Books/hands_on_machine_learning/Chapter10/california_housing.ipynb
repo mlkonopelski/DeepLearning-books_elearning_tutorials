{
 "cells": [
  {
   "cell_type": "markdown",
   "metadata": {},
   "source": [
    "## Environment"
   ]
  },
  {
   "cell_type": "code",
   "execution_count": 4,
   "metadata": {},
   "outputs": [],
   "source": [
    "import os\n",
    "import time\n",
    "\n",
    "from sklearn.datasets import fetch_california_housing\n",
    "from sklearn.model_selection import train_test_split\n",
    "from sklearn.preprocessing import StandardScaler\n",
    "\n",
    "from tensorflow import keras"
   ]
  },
  {
   "cell_type": "markdown",
   "metadata": {},
   "source": [
    "## Prepare Data"
   ]
  },
  {
   "cell_type": "code",
   "execution_count": 5,
   "metadata": {},
   "outputs": [],
   "source": [
    "housing = fetch_california_housing()\n",
    "housing"
   ]
  },
  {
   "cell_type": "code",
   "execution_count": 14,
   "metadata": {},
   "outputs": [],
   "source": [
    "X_train_full, X_test, y_train_full, y_test = train_test_split(housing.data, housing.target)\n",
    "X_train, X_valid, y_train, y_valid = train_test_split(X_train_full, y_train_full)\n",
    "del X_train_full, y_train_full"
   ]
  },
  {
   "cell_type": "code",
   "execution_count": 15,
   "metadata": {},
   "outputs": [],
   "source": [
    "scaler = StandardScaler()\n",
    "X_train = scaler.fit_transform(X_train)\n",
    "X_valid = scaler.transform(X_valid)\n",
    "X_test = scaler.transform(X_test)"
   ]
  },
  {
   "cell_type": "markdown",
   "metadata": {},
   "source": [
    "## Sequantial Model"
   ]
  },
  {
   "cell_type": "code",
   "execution_count": 38,
   "metadata": {},
   "outputs": [],
   "source": [
    "model = keras.models.Sequential([\n",
    "    keras.layers.Dense(30, activation='relu', input_shape=X_train.shape[1:]),\n",
    "    keras.layers.Dense(1)\n",
    "])"
   ]
  },
  {
   "cell_type": "code",
   "execution_count": 39,
   "metadata": {},
   "outputs": [],
   "source": [
    "model.compile(loss='mse', optimizer='sgd')"
   ]
  },
  {
   "cell_type": "code",
   "execution_count": 40,
   "metadata": {
    "scrolled": false
   },
   "outputs": [
    {
     "name": "stdout",
     "output_type": "stream",
     "text": [
      "Epoch 1/20\n",
      "363/363 [==============================] - 0s 1ms/step - loss: 0.7940 - val_loss: 0.4988\n",
      "Epoch 2/20\n",
      "363/363 [==============================] - 0s 980us/step - loss: 0.4899 - val_loss: 0.4481\n",
      "Epoch 3/20\n",
      "363/363 [==============================] - 0s 950us/step - loss: 0.4556 - val_loss: 0.4417\n",
      "Epoch 4/20\n",
      "363/363 [==============================] - 0s 983us/step - loss: 0.4436 - val_loss: 0.4545\n",
      "Epoch 5/20\n",
      "363/363 [==============================] - 0s 968us/step - loss: 0.4341 - val_loss: 0.4177\n",
      "Epoch 6/20\n",
      "363/363 [==============================] - 0s 953us/step - loss: 0.4236 - val_loss: 0.4103\n",
      "Epoch 7/20\n",
      "363/363 [==============================] - 0s 977us/step - loss: 0.4164 - val_loss: 0.4113\n",
      "Epoch 8/20\n",
      "363/363 [==============================] - 0s 952us/step - loss: 0.4105 - val_loss: 0.4009\n",
      "Epoch 9/20\n",
      "363/363 [==============================] - 0s 947us/step - loss: 0.4069 - val_loss: 0.3967\n",
      "Epoch 10/20\n",
      "363/363 [==============================] - 0s 1ms/step - loss: 0.4682 - val_loss: 0.4268\n",
      "Epoch 11/20\n",
      "363/363 [==============================] - 0s 991us/step - loss: 0.4084 - val_loss: 0.3904\n",
      "Epoch 12/20\n",
      "363/363 [==============================] - 0s 975us/step - loss: 0.3953 - val_loss: 0.4030\n",
      "Epoch 13/20\n",
      "363/363 [==============================] - 0s 1ms/step - loss: 0.3932 - val_loss: 0.3842\n",
      "Epoch 14/20\n",
      "363/363 [==============================] - 0s 1ms/step - loss: 0.3901 - val_loss: 0.3833\n",
      "Epoch 15/20\n",
      "363/363 [==============================] - 0s 999us/step - loss: 0.3884 - val_loss: 0.3831\n",
      "Epoch 16/20\n",
      "363/363 [==============================] - 0s 966us/step - loss: 0.3853 - val_loss: 0.3782\n",
      "Epoch 17/20\n",
      "363/363 [==============================] - 0s 983us/step - loss: 0.3834 - val_loss: 0.3914\n",
      "Epoch 18/20\n",
      "363/363 [==============================] - 0s 999us/step - loss: 0.3797 - val_loss: 0.4813\n",
      "Epoch 19/20\n",
      "363/363 [==============================] - 0s 1ms/step - loss: 0.3784 - val_loss: 0.3783\n",
      "Epoch 20/20\n",
      "363/363 [==============================] - 0s 966us/step - loss: 0.3740 - val_loss: 0.3783\n"
     ]
    }
   ],
   "source": [
    "history = model.fit(X_train, y_train, epochs=20,\n",
    "                   validation_data=(X_valid, y_valid))"
   ]
  },
  {
   "cell_type": "code",
   "execution_count": 41,
   "metadata": {},
   "outputs": [
    {
     "name": "stdout",
     "output_type": "stream",
     "text": [
      "162/162 [==============================] - 0s 703us/step - loss: 0.3910\n"
     ]
    },
    {
     "data": {
      "text/plain": [
       "0.3639618754386902"
      ]
     },
     "execution_count": 41,
     "metadata": {},
     "output_type": "execute_result"
    }
   ],
   "source": [
    "mse_test_sequential = model.evaluate(X_test, y_test)\n",
    "mse_test_sequential"
   ]
  },
  {
   "cell_type": "markdown",
   "metadata": {},
   "source": [
    "## Wide&Deep Model"
   ]
  },
  {
   "cell_type": "code",
   "execution_count": 36,
   "metadata": {},
   "outputs": [],
   "source": [
    "input_ = keras.layers.Input(X_train.shape[1])\n",
    "hidden1 = keras.layers.Dense(30, activation='relu')(input_)\n",
    "hidden2 = keras.layers.Dense(30, activation='relu')(hidden1)\n",
    "concat = keras.layers.Concatenate()([input_, hidden2])\n",
    "output = keras.layers.Dense(1)(concat)\n",
    "model = keras.Model(inputs=[input_], outputs=[output])"
   ]
  },
  {
   "cell_type": "code",
   "execution_count": 42,
   "metadata": {},
   "outputs": [],
   "source": [
    "model.compile(loss='mse', optimizer='sgd')"
   ]
  },
  {
   "cell_type": "code",
   "execution_count": 43,
   "metadata": {},
   "outputs": [
    {
     "name": "stdout",
     "output_type": "stream",
     "text": [
      "Epoch 1/20\n",
      "363/363 [==============================] - 0s 1ms/step - loss: 0.3733 - val_loss: 0.3892\n",
      "Epoch 2/20\n",
      "363/363 [==============================] - 0s 958us/step - loss: 0.3730 - val_loss: 0.3691\n",
      "Epoch 3/20\n",
      "363/363 [==============================] - 0s 988us/step - loss: 0.3708 - val_loss: 0.3719\n",
      "Epoch 4/20\n",
      "363/363 [==============================] - 0s 953us/step - loss: 0.3749 - val_loss: 0.3648\n",
      "Epoch 5/20\n",
      "363/363 [==============================] - 0s 953us/step - loss: 0.3648 - val_loss: 0.3638\n",
      "Epoch 6/20\n",
      "363/363 [==============================] - 0s 980us/step - loss: 0.3667 - val_loss: 0.3637\n",
      "Epoch 7/20\n",
      "363/363 [==============================] - 0s 961us/step - loss: 0.3639 - val_loss: 0.4380\n",
      "Epoch 8/20\n",
      "363/363 [==============================] - 0s 961us/step - loss: 0.3638 - val_loss: 0.3666\n",
      "Epoch 9/20\n",
      "363/363 [==============================] - 0s 986us/step - loss: 0.3622 - val_loss: 0.3570\n",
      "Epoch 10/20\n",
      "363/363 [==============================] - 0s 973us/step - loss: 0.3595 - val_loss: 0.4173\n",
      "Epoch 11/20\n",
      "363/363 [==============================] - 0s 969us/step - loss: 0.3596 - val_loss: 0.3576\n",
      "Epoch 12/20\n",
      "363/363 [==============================] - 0s 1ms/step - loss: 0.3563 - val_loss: 0.3629\n",
      "Epoch 13/20\n",
      "363/363 [==============================] - 0s 966us/step - loss: 0.3568 - val_loss: 0.3565\n",
      "Epoch 14/20\n",
      "363/363 [==============================] - 0s 955us/step - loss: 0.3548 - val_loss: 0.3666\n",
      "Epoch 15/20\n",
      "363/363 [==============================] - 0s 999us/step - loss: 0.3541 - val_loss: 0.3630\n",
      "Epoch 16/20\n",
      "363/363 [==============================] - 0s 966us/step - loss: 0.3539 - val_loss: 0.3712\n",
      "Epoch 17/20\n",
      "363/363 [==============================] - 0s 975us/step - loss: 0.3514 - val_loss: 0.3549\n",
      "Epoch 18/20\n",
      "363/363 [==============================] - 0s 961us/step - loss: 0.3506 - val_loss: 0.3563\n",
      "Epoch 19/20\n",
      "363/363 [==============================] - 0s 972us/step - loss: 0.3472 - val_loss: 0.3424\n",
      "Epoch 20/20\n",
      "363/363 [==============================] - 0s 986us/step - loss: 0.3461 - val_loss: 0.3445\n"
     ]
    },
    {
     "data": {
      "text/plain": [
       "<tensorflow.python.keras.callbacks.History at 0x1293d64c6c8>"
      ]
     },
     "execution_count": 43,
     "metadata": {},
     "output_type": "execute_result"
    }
   ],
   "source": [
    "model.fit(X_train, y_train, \n",
    "          epochs=20, validation_data=(X_valid, y_valid))"
   ]
  },
  {
   "cell_type": "code",
   "execution_count": 44,
   "metadata": {},
   "outputs": [
    {
     "name": "stdout",
     "output_type": "stream",
     "text": [
      "162/162 [==============================] - 0s 814us/step - loss: 0.3579\n"
     ]
    },
    {
     "data": {
      "text/plain": [
       "0.3578910827636719"
      ]
     },
     "execution_count": 44,
     "metadata": {},
     "output_type": "execute_result"
    }
   ],
   "source": [
    "mse_test_deepwide = model.evaluate(X_test, y_test)\n",
    "mse_test_deepwide"
   ]
  },
  {
   "cell_type": "markdown",
   "metadata": {},
   "source": [
    "## Direct Feature Input Model "
   ]
  },
  {
   "cell_type": "code",
   "execution_count": 57,
   "metadata": {},
   "outputs": [
    {
     "name": "stdout",
     "output_type": "stream",
     "text": [
      "Model: \"functional_7\"\n",
      "__________________________________________________________________________________________________\n",
      "Layer (type)                    Output Shape         Param #     Connected to                     \n",
      "==================================================================================================\n",
      "deep_input (InputLayer)         [(None, 6)]          0                                            \n",
      "__________________________________________________________________________________________________\n",
      "dense_27 (Dense)                (None, 30)           210         deep_input[0][0]                 \n",
      "__________________________________________________________________________________________________\n",
      "direct_input (InputLayer)       [(None, 5)]          0                                            \n",
      "__________________________________________________________________________________________________\n",
      "dense_28 (Dense)                (None, 30)           930         dense_27[0][0]                   \n",
      "__________________________________________________________________________________________________\n",
      "concatenation (Concatenate)     (None, 35)           0           direct_input[0][0]               \n",
      "                                                                 dense_28[0][0]                   \n",
      "__________________________________________________________________________________________________\n",
      "output (Dense)                  (None, 1)            36          concatenation[0][0]              \n",
      "==================================================================================================\n",
      "Total params: 1,176\n",
      "Trainable params: 1,176\n",
      "Non-trainable params: 0\n",
      "__________________________________________________________________________________________________\n"
     ]
    }
   ],
   "source": [
    "input_A = keras.layers.Input(shape=[5], name='direct_input')\n",
    "input_B = keras.layers.Input(shape=[6], name='deep_input')\n",
    "hidden1 = keras.layers.Dense(units=30, activation='relu')(input_B)\n",
    "hidden2 = keras.layers.Dense(units=30, activation='relu')(hidden1)\n",
    "concat = keras.layers.Concatenate(name='concatenation')([input_A, hidden2])\n",
    "output = keras.layers.Dense(1, name='output')(concat)\n",
    "model = keras.Model(inputs=[input_A, input_B], outputs=[output])\n",
    "model.summary()"
   ]
  },
  {
   "cell_type": "code",
   "execution_count": 59,
   "metadata": {},
   "outputs": [],
   "source": [
    "X_train_A, X_train_B = X_train[:, :5], X_train[:, 2:]\n",
    "X_valid_A, X_valid_B = X_valid[:, :5], X_valid[:, 2:]\n",
    "X_test_A, X_test_B = X_test[:, :5], X_test[:, 2:]"
   ]
  },
  {
   "cell_type": "code",
   "execution_count": 58,
   "metadata": {},
   "outputs": [],
   "source": [
    "model.compile(loss='mean_squared_error', optimizer='sgd')"
   ]
  },
  {
   "cell_type": "code",
   "execution_count": 61,
   "metadata": {},
   "outputs": [
    {
     "name": "stdout",
     "output_type": "stream",
     "text": [
      "Epoch 1/20\n",
      "363/363 [==============================] - 0s 1ms/step - loss: 0.8213 - val_loss: 0.5466\n",
      "Epoch 2/20\n",
      "363/363 [==============================] - 0s 1ms/step - loss: 0.5399 - val_loss: 0.5288\n",
      "Epoch 3/20\n",
      "363/363 [==============================] - 0s 1ms/step - loss: 0.5052 - val_loss: 0.4859\n",
      "Epoch 4/20\n",
      "363/363 [==============================] - 0s 1ms/step - loss: 0.4992 - val_loss: 0.4659\n",
      "Epoch 5/20\n",
      "363/363 [==============================] - 0s 1ms/step - loss: 0.4842 - val_loss: 0.4495\n",
      "Epoch 6/20\n",
      "363/363 [==============================] - 1s 1ms/step - loss: 0.4609 - val_loss: 0.4629\n",
      "Epoch 7/20\n",
      "363/363 [==============================] - 0s 1ms/step - loss: 0.4562 - val_loss: 0.5200\n",
      "Epoch 8/20\n",
      "363/363 [==============================] - 0s 1ms/step - loss: 0.4446 - val_loss: 0.4396\n",
      "Epoch 9/20\n",
      "363/363 [==============================] - 0s 1ms/step - loss: 0.4369 - val_loss: 0.4257\n",
      "Epoch 10/20\n",
      "363/363 [==============================] - 0s 1ms/step - loss: 0.4315 - val_loss: 0.4098\n",
      "Epoch 11/20\n",
      "363/363 [==============================] - 0s 1ms/step - loss: 0.4202 - val_loss: 0.4055\n",
      "Epoch 12/20\n",
      "363/363 [==============================] - 0s 1ms/step - loss: 0.4084 - val_loss: 0.3985\n",
      "Epoch 13/20\n",
      "363/363 [==============================] - 0s 1ms/step - loss: 0.3980 - val_loss: 0.4049\n",
      "Epoch 14/20\n",
      "363/363 [==============================] - 0s 1ms/step - loss: 0.3994 - val_loss: 0.3845\n",
      "Epoch 15/20\n",
      "363/363 [==============================] - 0s 1ms/step - loss: 0.4009 - val_loss: 0.4009\n",
      "Epoch 16/20\n",
      "363/363 [==============================] - 0s 1ms/step - loss: 0.3844 - val_loss: 0.3841\n",
      "Epoch 17/20\n",
      "363/363 [==============================] - 0s 1ms/step - loss: 0.3805 - val_loss: 0.3707\n",
      "Epoch 18/20\n",
      "363/363 [==============================] - 0s 1ms/step - loss: 0.3779 - val_loss: 0.3715\n",
      "Epoch 19/20\n",
      "363/363 [==============================] - 0s 1ms/step - loss: 0.3723 - val_loss: 0.3746\n",
      "Epoch 20/20\n",
      "363/363 [==============================] - 0s 1ms/step - loss: 0.4787 - val_loss: 0.3860\n"
     ]
    }
   ],
   "source": [
    "history = model.fit((X_train_A, X_train_B), y_train,\n",
    "                    epochs=20,\n",
    "                    validation_data=((X_valid_A, X_valid_B), y_valid))"
   ]
  },
  {
   "cell_type": "code",
   "execution_count": 62,
   "metadata": {},
   "outputs": [
    {
     "name": "stdout",
     "output_type": "stream",
     "text": [
      "162/162 [==============================] - 0s 777us/step - loss: 0.3958\n"
     ]
    },
    {
     "data": {
      "text/plain": [
       "0.3957987129688263"
      ]
     },
     "execution_count": 62,
     "metadata": {},
     "output_type": "execute_result"
    }
   ],
   "source": [
    "mse_model_direct_input = model.evaluate((X_test_A, X_test_B), y_test)\n",
    "mse_model_direct_input"
   ]
  },
  {
   "cell_type": "markdown",
   "metadata": {},
   "source": [
    "## Model with multiple outputs"
   ]
  },
  {
   "cell_type": "code",
   "execution_count": 93,
   "metadata": {},
   "outputs": [
    {
     "name": "stdout",
     "output_type": "stream",
     "text": [
      "Model: \"functional_11\"\n",
      "__________________________________________________________________________________________________\n",
      "Layer (type)                    Output Shape         Param #     Connected to                     \n",
      "==================================================================================================\n",
      "DeepInput (InputLayer)          [(None, 6)]          0                                            \n",
      "__________________________________________________________________________________________________\n",
      "Dense1 (Dense)                  (None, 30)           210         DeepInput[0][0]                  \n",
      "__________________________________________________________________________________________________\n",
      "DirectInput (InputLayer)        [(None, 5)]          0                                            \n",
      "__________________________________________________________________________________________________\n",
      "Dense2 (Dense)                  (None, 30)           930         Dense1[0][0]                     \n",
      "__________________________________________________________________________________________________\n",
      "concatenate_11 (Concatenate)    (None, 35)           0           DirectInput[0][0]                \n",
      "                                                                 Dense2[0][0]                     \n",
      "__________________________________________________________________________________________________\n",
      "output (Dense)                  (None, 1)            36          concatenate_11[0][0]             \n",
      "__________________________________________________________________________________________________\n",
      "output_other (Dense)            (None, 1)            31          Dense2[0][0]                     \n",
      "==================================================================================================\n",
      "Total params: 1,207\n",
      "Trainable params: 1,207\n",
      "Non-trainable params: 0\n",
      "__________________________________________________________________________________________________\n"
     ]
    }
   ],
   "source": [
    "input_A = keras.layers.Input(shape=[5], name='DirectInput')\n",
    "input_B = keras.layers.Input(shape=[6], name='DeepInput')\n",
    "hidden1 = keras.layers.Dense(units=30, activation='relu', name='Dense1')(input_B)\n",
    "hidden2 = keras.layers.Dense(units=30, activation='relu', name='Dense2')(hidden1)\n",
    "concat = keras.layers.Concatenate()([input_A, hidden2])\n",
    "output = keras.layers.Dense(1, name='output')(concat)\n",
    "output_aux = keras.layers.Dense(1, name='output_other')(hidden2)\n",
    "model = keras.Model(inputs=[input_A, input_B], outputs=[output, output_aux])\n",
    "model.summary()"
   ]
  },
  {
   "cell_type": "code",
   "execution_count": 94,
   "metadata": {},
   "outputs": [],
   "source": [
    "X_train_A, X_train_B = X_train[:, :5], X_train[:, 2:]\n",
    "X_valid_A, X_valid_B = X_valid[:, :5], X_valid[:, 2:]\n",
    "X_test_A, X_test_B = X_test[:, :5], X_test[:, 2:]"
   ]
  },
  {
   "cell_type": "code",
   "execution_count": 95,
   "metadata": {},
   "outputs": [],
   "source": [
    "model.compile(loss=['mse', 'mse'], optimizer='sgd')"
   ]
  },
  {
   "cell_type": "code",
   "execution_count": 96,
   "metadata": {},
   "outputs": [
    {
     "name": "stdout",
     "output_type": "stream",
     "text": [
      "Epoch 1/20\n",
      "363/363 [==============================] - 1s 2ms/step - loss: 2.3227 - output_loss: 1.0454 - output_other_loss: 1.2774 - val_loss: 1.2085 - val_output_loss: 0.5325 - val_output_other_loss: 0.6760\n",
      "Epoch 2/20\n",
      "363/363 [==============================] - 0s 1ms/step - loss: 1.0860 - output_loss: 0.4720 - output_other_loss: 0.6141 - val_loss: 1.0182 - val_output_loss: 0.4408 - val_output_other_loss: 0.5774\n",
      "Epoch 3/20\n",
      "363/363 [==============================] - 0s 1ms/step - loss: 1.1038 - output_loss: 0.4747 - output_other_loss: 0.6290 - val_loss: 0.9598 - val_output_loss: 0.4243 - val_output_other_loss: 0.5355\n",
      "Epoch 4/20\n",
      "363/363 [==============================] - 0s 1ms/step - loss: 0.9665 - output_loss: 0.4350 - output_other_loss: 0.5316 - val_loss: 0.8953 - val_output_loss: 0.4102 - val_output_other_loss: 0.4851\n",
      "Epoch 5/20\n",
      "363/363 [==============================] - 1s 2ms/step - loss: 1.0555 - output_loss: 0.5289 - output_other_loss: 0.5266 - val_loss: 0.8603 - val_output_loss: 0.3939 - val_output_other_loss: 0.4664\n",
      "Epoch 6/20\n",
      "363/363 [==============================] - 0s 1ms/step - loss: 0.8684 - output_loss: 0.3920 - output_other_loss: 0.4764 - val_loss: 0.9765 - val_output_loss: 0.4311 - val_output_other_loss: 0.5454\n",
      "Epoch 7/20\n",
      "363/363 [==============================] - 0s 1ms/step - loss: 0.8332 - output_loss: 0.3779 - output_other_loss: 0.4553 - val_loss: 0.8180 - val_output_loss: 0.3764 - val_output_other_loss: 0.4416\n",
      "Epoch 8/20\n",
      "363/363 [==============================] - 0s 1ms/step - loss: 0.8105 - output_loss: 0.3681 - output_other_loss: 0.4425 - val_loss: 0.7913 - val_output_loss: 0.3600 - val_output_other_loss: 0.4313\n",
      "Epoch 9/20\n",
      "363/363 [==============================] - 0s 1ms/step - loss: 0.8022 - output_loss: 0.3656 - output_other_loss: 0.4366 - val_loss: 0.7831 - val_output_loss: 0.3630 - val_output_other_loss: 0.4201\n",
      "Epoch 10/20\n",
      "363/363 [==============================] - 0s 1ms/step - loss: 0.7850 - output_loss: 0.3576 - output_other_loss: 0.4274 - val_loss: 0.8714 - val_output_loss: 0.3833 - val_output_other_loss: 0.4881\n",
      "Epoch 11/20\n",
      "363/363 [==============================] - 0s 1ms/step - loss: 0.7760 - output_loss: 0.3545 - output_other_loss: 0.4215 - val_loss: 0.7433 - val_output_loss: 0.3394 - val_output_other_loss: 0.4038\n",
      "Epoch 12/20\n",
      "363/363 [==============================] - 0s 1ms/step - loss: 0.7736 - output_loss: 0.3524 - output_other_loss: 0.4212 - val_loss: 0.8097 - val_output_loss: 0.3672 - val_output_other_loss: 0.4425\n",
      "Epoch 13/20\n",
      "363/363 [==============================] - 0s 1ms/step - loss: 0.7712 - output_loss: 0.3525 - output_other_loss: 0.4188 - val_loss: 0.7485 - val_output_loss: 0.3439 - val_output_other_loss: 0.4046\n",
      "Epoch 14/20\n",
      "363/363 [==============================] - 0s 1ms/step - loss: 0.7578 - output_loss: 0.3470 - output_other_loss: 0.4108 - val_loss: 0.7301 - val_output_loss: 0.3337 - val_output_other_loss: 0.3964\n",
      "Epoch 15/20\n",
      "363/363 [==============================] - 1s 1ms/step - loss: 0.7548 - output_loss: 0.3452 - output_other_loss: 0.4096 - val_loss: 0.8151 - val_output_loss: 0.3786 - val_output_other_loss: 0.4365\n",
      "Epoch 16/20\n",
      "363/363 [==============================] - 0s 1ms/step - loss: 0.7430 - output_loss: 0.3405 - output_other_loss: 0.4025 - val_loss: 0.8466 - val_output_loss: 0.4011 - val_output_other_loss: 0.4454\n",
      "Epoch 17/20\n",
      "363/363 [==============================] - 0s 1ms/step - loss: 0.7382 - output_loss: 0.3386 - output_other_loss: 0.3996 - val_loss: 0.7174 - val_output_loss: 0.3294 - val_output_other_loss: 0.3880\n",
      "Epoch 18/20\n",
      "363/363 [==============================] - 0s 1ms/step - loss: 0.7343 - output_loss: 0.3373 - output_other_loss: 0.3969 - val_loss: 0.7184 - val_output_loss: 0.3287 - val_output_other_loss: 0.3897\n",
      "Epoch 19/20\n",
      "363/363 [==============================] - 0s 1ms/step - loss: 0.7365 - output_loss: 0.3392 - output_other_loss: 0.3974 - val_loss: 0.7562 - val_output_loss: 0.3490 - val_output_other_loss: 0.4072\n",
      "Epoch 20/20\n",
      "363/363 [==============================] - 0s 1ms/step - loss: 0.7321 - output_loss: 0.3374 - output_other_loss: 0.3948 - val_loss: 0.7423 - val_output_loss: 0.3394 - val_output_other_loss: 0.4029\n"
     ]
    },
    {
     "data": {
      "text/plain": [
       "<tensorflow.python.keras.callbacks.History at 0x12940189888>"
      ]
     },
     "execution_count": 96,
     "metadata": {},
     "output_type": "execute_result"
    }
   ],
   "source": [
    "model.fit((X_train_A, X_train_B), (y_train, y_train),\n",
    "         epochs=20,\n",
    "         validation_data=((X_valid_A, X_valid_B), (y_valid, y_valid)))"
   ]
  },
  {
   "cell_type": "code",
   "execution_count": 79,
   "metadata": {},
   "outputs": [
    {
     "name": "stdout",
     "output_type": "stream",
     "text": [
      "162/162 [==============================] - 0s 869us/step - loss: 0.8394 - output_loss: 0.3873 - output_other_loss: 0.4522\n"
     ]
    },
    {
     "data": {
      "text/plain": [
       "[0.3872627317905426, 0.4521538317203522]"
      ]
     },
     "execution_count": 79,
     "metadata": {},
     "output_type": "execute_result"
    }
   ],
   "source": [
    "mse_model_two_outputs = model.evaluate((X_test_A, X_test_B), (y_test, y_test))\n",
    "mse_model_two_outputs[1:]"
   ]
  },
  {
   "cell_type": "markdown",
   "metadata": {},
   "source": [
    "## Wide&Deep Model sub-class implementation"
   ]
  },
  {
   "cell_type": "code",
   "execution_count": 90,
   "metadata": {},
   "outputs": [],
   "source": [
    "class WideAndDeepModel(keras.Model):\n",
    "    def __init__(self, units=30, activation='relu', **kwargs):\n",
    "        super().__init__(**kwargs)\n",
    "        self.hidden1 = keras.layers.Dense(units, activation=activation)\n",
    "        self.hidden2 = keras.layers.Dense(units, activation=activation)\n",
    "        self.main_output = keras.layers.Dense(1)\n",
    "        self.aux_output = keras.layers.Dense(1)\n",
    "        \n",
    "    def call(self, inputs):\n",
    "        input_A, input_B = inputs\n",
    "        hidden1 = self.hidden1(input_B)\n",
    "        hidden2 = self.hidden2(hidden1)\n",
    "        concat = keras.layers.Concatenate()([input_A, hidden2])\n",
    "        main_output = self.main_output(concat)\n",
    "        aux_output = self.aux_output(hidden2)\n",
    "        return main_output, aux_output"
   ]
  },
  {
   "cell_type": "code",
   "execution_count": 91,
   "metadata": {},
   "outputs": [],
   "source": [
    "model = WideAndDeepModel()"
   ]
  },
  {
   "cell_type": "code",
   "execution_count": 92,
   "metadata": {},
   "outputs": [
    {
     "name": "stdout",
     "output_type": "stream",
     "text": [
      "WARNING:tensorflow:Layer dense_37 is casting an input tensor from dtype float64 to the layer's dtype of float32, which is new behavior in TensorFlow 2.  The layer has dtype float32 because its dtype defaults to floatx.\n",
      "\n",
      "If you intended to run this layer in float32, you can safely ignore this warning. If in doubt, this warning is likely only an issue if you are porting a TensorFlow 1.X model to TensorFlow 2.\n",
      "\n",
      "To change all layers to have dtype float64 by default, call `tf.keras.backend.set_floatx('float64')`. To change just this layer, pass dtype='float64' to the layer constructor. If you are the author of this layer, you can disable autocasting by passing autocast=False to the base Layer constructor.\n",
      "\n",
      "WARNING:tensorflow:Layer concatenate_10 is casting an input tensor from dtype float64 to the layer's dtype of float32, which is new behavior in TensorFlow 2.  The layer has dtype float32 because its dtype defaults to floatx.\n",
      "\n",
      "If you intended to run this layer in float32, you can safely ignore this warning. If in doubt, this warning is likely only an issue if you are porting a TensorFlow 1.X model to TensorFlow 2.\n",
      "\n",
      "To change all layers to have dtype float64 by default, call `tf.keras.backend.set_floatx('float64')`. To change just this layer, pass dtype='float64' to the layer constructor. If you are the author of this layer, you can disable autocasting by passing autocast=False to the base Layer constructor.\n",
      "\n"
     ]
    },
    {
     "data": {
      "text/plain": [
       "(<tf.Tensor: shape=(11610, 1), dtype=float32, numpy=\n",
       " array([[-0.06662218],\n",
       "        [-0.6289364 ],\n",
       "        [ 0.23321314],\n",
       "        ...,\n",
       "        [ 0.3478999 ],\n",
       "        [-0.45993525],\n",
       "        [-0.66158205]], dtype=float32)>,\n",
       " <tf.Tensor: shape=(11610, 1), dtype=float32, numpy=\n",
       " array([[-0.44738716],\n",
       "        [-0.04426318],\n",
       "        [-0.20813489],\n",
       "        ...,\n",
       "        [-0.24637066],\n",
       "        [-1.2469165 ],\n",
       "        [-0.26630157]], dtype=float32)>)"
      ]
     },
     "execution_count": 92,
     "metadata": {},
     "output_type": "execute_result"
    }
   ],
   "source": [
    "model.call(inputs=(X_train_A, X_train_B))"
   ]
  },
  {
   "cell_type": "markdown",
   "metadata": {},
   "source": [
    "## Saving Model"
   ]
  },
  {
   "cell_type": "code",
   "execution_count": 99,
   "metadata": {},
   "outputs": [],
   "source": [
    "model_name = 'california_housing_model.h5'"
   ]
  },
  {
   "cell_type": "code",
   "execution_count": 100,
   "metadata": {},
   "outputs": [],
   "source": [
    "model.save(model_name)"
   ]
  },
  {
   "cell_type": "code",
   "execution_count": 101,
   "metadata": {},
   "outputs": [],
   "source": [
    "model = keras.models.load_model(model_name)"
   ]
  },
  {
   "cell_type": "code",
   "execution_count": 104,
   "metadata": {},
   "outputs": [],
   "source": [
    "!del california_housing_model.h5"
   ]
  },
  {
   "cell_type": "markdown",
   "metadata": {},
   "source": [
    "## Saving checkpoints during model training"
   ]
  },
  {
   "cell_type": "code",
   "execution_count": 107,
   "metadata": {},
   "outputs": [],
   "source": [
    "model = keras.models.Sequential([\n",
    "    keras.layers.Dense(30, 'relu'),\n",
    "    keras.layers.Dense(30, 'relu'),\n",
    "    keras.layers.Dense(1)\n",
    "])\n",
    "model.compile(loss='mse', optimizer='sgd')"
   ]
  },
  {
   "cell_type": "code",
   "execution_count": 112,
   "metadata": {},
   "outputs": [],
   "source": [
    "checkpoint_cb = keras.callbacks.ModelCheckpoint(model_name)\n",
    "early_stopping_cb = keras.callbacks.EarlyStopping(patience=10,\n",
    "                                                  restore_best_weights=True)"
   ]
  },
  {
   "cell_type": "code",
   "execution_count": 114,
   "metadata": {},
   "outputs": [
    {
     "name": "stdout",
     "output_type": "stream",
     "text": [
      "Epoch 1/100\n",
      "363/363 [==============================] - 0s 1ms/step - loss: 0.2996 - val_loss: 0.3022\n",
      "Epoch 2/100\n",
      "363/363 [==============================] - 0s 1ms/step - loss: 0.3018 - val_loss: 0.3059\n",
      "Epoch 3/100\n",
      "363/363 [==============================] - 0s 1ms/step - loss: 0.2981 - val_loss: 0.3001\n",
      "Epoch 4/100\n",
      "363/363 [==============================] - 0s 1ms/step - loss: 0.2996 - val_loss: 0.3040\n",
      "Epoch 5/100\n",
      "363/363 [==============================] - 0s 1ms/step - loss: 0.2976 - val_loss: 0.2990\n",
      "Epoch 6/100\n",
      "363/363 [==============================] - 0s 1ms/step - loss: 0.2966 - val_loss: 0.3024\n",
      "Epoch 7/100\n",
      "363/363 [==============================] - 0s 1ms/step - loss: 0.2962 - val_loss: 0.3180\n",
      "Epoch 8/100\n",
      "363/363 [==============================] - 0s 1ms/step - loss: 0.2957 - val_loss: 0.2993\n",
      "Epoch 9/100\n",
      "363/363 [==============================] - 0s 1ms/step - loss: 0.2971 - val_loss: 0.3050\n",
      "Epoch 10/100\n",
      "363/363 [==============================] - 0s 1ms/step - loss: 0.2940 - val_loss: 0.3132\n",
      "Epoch 11/100\n",
      "363/363 [==============================] - 0s 1ms/step - loss: 0.2952 - val_loss: 0.2993\n",
      "Epoch 12/100\n",
      "363/363 [==============================] - 0s 1ms/step - loss: 0.2941 - val_loss: 0.3283\n",
      "Epoch 13/100\n",
      "363/363 [==============================] - 0s 1ms/step - loss: 0.2937 - val_loss: 0.3139\n",
      "Epoch 14/100\n",
      "363/363 [==============================] - 0s 1ms/step - loss: 0.2926 - val_loss: 0.3487\n",
      "Epoch 15/100\n",
      "363/363 [==============================] - 0s 1ms/step - loss: 0.2930 - val_loss: 0.3197\n"
     ]
    }
   ],
   "source": [
    "history = model.fit(X_train, y_train,\n",
    "                    validation_data=(X_valid, y_valid),\n",
    "                    epochs=100,\n",
    "                    callbacks=[checkpoint_cb, early_stopping_cb])"
   ]
  },
  {
   "cell_type": "code",
   "execution_count": 115,
   "metadata": {},
   "outputs": [],
   "source": [
    "!del california_housing_model.h5"
   ]
  },
  {
   "cell_type": "code",
   "execution_count": 143,
   "metadata": {},
   "outputs": [],
   "source": [
    "def generate_path():\n",
    "    root_logdir = os.path.join('..\\\\', 'TensorBoard_logs', time.strftime('Logs_%Y_%m_%d-%H_%M_%S'))\n",
    "    return root_logdir\n",
    "\n",
    "tensorboard_cb = keras.callbacks.TensorBoard(generate_path())"
   ]
  },
  {
   "cell_type": "code",
   "execution_count": 144,
   "metadata": {},
   "outputs": [
    {
     "name": "stdout",
     "output_type": "stream",
     "text": [
      "Epoch 1/10\n",
      "  2/363 [..............................] - ETA: 14s - loss: 0.3089WARNING:tensorflow:Callbacks method `on_train_batch_begin` is slow compared to the batch time (batch time: 0.0010s vs `on_train_batch_begin` time: 0.0040s). Check your callbacks.\n",
      "WARNING:tensorflow:Callbacks method `on_train_batch_end` is slow compared to the batch time (batch time: 0.0010s vs `on_train_batch_end` time: 0.0730s). Check your callbacks.\n",
      "363/363 [==============================] - 1s 1ms/step - loss: 0.2823 - val_loss: 0.2959\n",
      "Epoch 2/10\n",
      "363/363 [==============================] - 0s 1ms/step - loss: 0.2823 - val_loss: 0.2896\n",
      "Epoch 3/10\n",
      "363/363 [==============================] - 0s 1ms/step - loss: 0.2829 - val_loss: 0.2906\n",
      "Epoch 4/10\n",
      "363/363 [==============================] - 0s 1ms/step - loss: 0.2825 - val_loss: 0.2915\n",
      "Epoch 5/10\n",
      "363/363 [==============================] - 0s 1ms/step - loss: 0.2828 - val_loss: 0.2910\n",
      "Epoch 6/10\n",
      "363/363 [==============================] - 0s 1ms/step - loss: 0.2811 - val_loss: 0.2954\n",
      "Epoch 7/10\n",
      "363/363 [==============================] - 0s 1ms/step - loss: 0.2820 - val_loss: 0.2939\n",
      "Epoch 8/10\n",
      "363/363 [==============================] - 0s 1ms/step - loss: 0.2820 - val_loss: 0.3066\n",
      "Epoch 9/10\n",
      "363/363 [==============================] - 0s 1ms/step - loss: 0.2815 - val_loss: 0.2911\n",
      "Epoch 10/10\n",
      "363/363 [==============================] - 0s 1ms/step - loss: 0.2793 - val_loss: 0.2932\n"
     ]
    }
   ],
   "source": [
    "history = model.fit(X_train, y_train,\n",
    "                   epochs=10,\n",
    "                   validation_data=(X_valid, y_valid),\n",
    "                   callbacks=[tensorboard_cb])"
   ]
  },
  {
   "cell_type": "code",
   "execution_count": 149,
   "metadata": {},
   "outputs": [
    {
     "name": "stdout",
     "output_type": "stream",
     "text": [
      "^C\n"
     ]
    }
   ],
   "source": [
    "!tensorboard --logdir=C:/Users/Lenovo/PycharmProjects/DeepLearning/TensorBoard_logs --port=6006"
   ]
  },
  {
   "cell_type": "code",
   "execution_count": 152,
   "metadata": {},
   "outputs": [
    {
     "name": "stdout",
     "output_type": "stream",
     "text": [
      "The tensorboard extension is already loaded. To reload it, use:\n",
      "  %reload_ext tensorboard\n"
     ]
    },
    {
     "data": {
      "text/plain": [
       "Reusing TensorBoard on port 6006 (pid 3908), started 0:01:08 ago. (Use '!kill 3908' to kill it.)"
      ]
     },
     "metadata": {},
     "output_type": "display_data"
    },
    {
     "data": {
      "text/html": [
       "\n",
       "      <iframe id=\"tensorboard-frame-2d1c3678f6d78c76\" width=\"100%\" height=\"800\" frameborder=\"0\">\n",
       "      </iframe>\n",
       "      <script>\n",
       "        (function() {\n",
       "          const frame = document.getElementById(\"tensorboard-frame-2d1c3678f6d78c76\");\n",
       "          const url = new URL(\"/\", window.location);\n",
       "          const port = 6006;\n",
       "          if (port) {\n",
       "            url.port = port;\n",
       "          }\n",
       "          frame.src = url;\n",
       "        })();\n",
       "      </script>\n",
       "    "
      ],
      "text/plain": [
       "<IPython.core.display.HTML object>"
      ]
     },
     "metadata": {},
     "output_type": "display_data"
    }
   ],
   "source": [
    "%load_ext tensorboard\n",
    "%tensorboard --logdir=C:/Users/Lenovo/PycharmProjects/DeepLearning/TensorBoard_logs --port=6006"
   ]
  },
  {
   "cell_type": "code",
   "execution_count": null,
   "metadata": {},
   "outputs": [],
   "source": []
  },
  {
   "cell_type": "code",
   "execution_count": null,
   "metadata": {},
   "outputs": [],
   "source": []
  }
 ],
 "metadata": {
  "kernelspec": {
   "display_name": "Python 3",
   "language": "python",
   "name": "python3"
  },
  "language_info": {
   "codemirror_mode": {
    "name": "ipython",
    "version": 3
   },
   "file_extension": ".py",
   "mimetype": "text/x-python",
   "name": "python",
   "nbconvert_exporter": "python",
   "pygments_lexer": "ipython3",
   "version": "3.7.7"
  }
 },
 "nbformat": 4,
 "nbformat_minor": 4
}
