{
 "cells": [
  {
   "cell_type": "code",
   "execution_count": 80,
   "metadata": {},
   "outputs": [],
   "source": [
    "import tensorflow as tf \n",
    "from tensorflow import keras\n",
    "\n",
    "\n",
    "import pandas as pd\n",
    "import numpy as np\n",
    "\n",
    "import matplotlib.pyplot as plt\n",
    "from IPython.display import display\n",
    "from PIL import Image\n",
    "\n",
    "import pickle"
   ]
  },
  {
   "cell_type": "code",
   "execution_count": 30,
   "metadata": {},
   "outputs": [],
   "source": [
    "def load_mnist(source='keras', local='../data/fashion-mnist.dat'):\n",
    "    if source == 'keras':\n",
    "        fashion_mnist = keras.datasets.fashion_mnist\n",
    "        (X_train_full, y_train_full), (X_test, y_test) = fashion_mnist.load_data()\n",
    "        \n",
    "    elif source == 'local':\n",
    "        with open(local, \"rb\") as f:\n",
    "            (X_train_full, y_train_full), (X_test, y_test) = pickle.load(f)\n",
    "            \n",
    "    return X_train_full, y_train_full, X_test, y_test"
   ]
  },
  {
   "cell_type": "code",
   "execution_count": 53,
   "metadata": {},
   "outputs": [],
   "source": [
    "X_train_full, y_train_full, X_test, y_test = load_mnist('keras')"
   ]
  },
  {
   "cell_type": "code",
   "execution_count": 54,
   "metadata": {},
   "outputs": [
    {
     "name": "stdout",
     "output_type": "stream",
     "text": [
      "(60000, 28, 28)\n",
      "(60000,)\n",
      "(10000, 28, 28)\n",
      "(10000,)\n"
     ]
    }
   ],
   "source": [
    "for set_ in [X_train_full, y_train_full, X_test, y_test]:\n",
    "    print(set_.shape)"
   ]
  },
  {
   "cell_type": "code",
   "execution_count": 55,
   "metadata": {},
   "outputs": [],
   "source": [
    "X_valid, X_train = X_train_full[:5000] / 255.0, X_train_full[5000:] / 255.0\n",
    "y_valid, y_train = y_train_full[:5000], y_train_full[5000:]\n",
    "\n",
    "del X_train_full, y_train_full"
   ]
  },
  {
   "cell_type": "code",
   "execution_count": 56,
   "metadata": {},
   "outputs": [],
   "source": [
    "class_names = ['tshirt', 'trousers', 'jumper', 'dress', 'coat',\n",
    "               'sandals', 'shirt', 'trainers', 'bag', 'boots']"
   ]
  },
  {
   "cell_type": "code",
   "execution_count": 58,
   "metadata": {},
   "outputs": [
    {
     "data": {
      "text/plain": [
       "'coat'"
      ]
     },
     "execution_count": 58,
     "metadata": {},
     "output_type": "execute_result"
    }
   ],
   "source": [
    "class_names[y_train[0]]"
   ]
  },
  {
   "cell_type": "code",
   "execution_count": 68,
   "metadata": {},
   "outputs": [],
   "source": [
    "model = keras.models.Sequential()\n",
    "model.add(keras.layers.Flatten(input_shape=[28, 28]))\n",
    "model.add(keras.layers.Dense(300, activation='relu'))\n",
    "model.add(keras.layers.Dense(100, activation='relu'))\n",
    "model.add(keras.layers.Dense(10, activation='softmax'))"
   ]
  },
  {
   "cell_type": "code",
   "execution_count": 69,
   "metadata": {},
   "outputs": [],
   "source": [
    "model.compile(loss=keras.losses.sparse_categorical_crossentropy, # or 'sparse_categorical_crossentropy', all ->https://keras.io/api/losses/\n",
    "              optimizer=keras.optimizers.SGD(lr=0.01), # or 'sgd', all -> https://keras.io/api/optimizers/\n",
    "              metrics=[keras.metrics.sparse_categorical_accuracy] # or 'accuracy', all -> https://keras.io/api/metrics/\n",
    "             )"
   ]
  },
  {
   "cell_type": "code",
   "execution_count": 70,
   "metadata": {},
   "outputs": [
    {
     "name": "stdout",
     "output_type": "stream",
     "text": [
      "Model: \"sequential_1\"\n",
      "_________________________________________________________________\n",
      "Layer (type)                 Output Shape              Param #   \n",
      "=================================================================\n",
      "flatten_1 (Flatten)          (None, 784)               0         \n",
      "_________________________________________________________________\n",
      "dense_3 (Dense)              (None, 300)               235500    \n",
      "_________________________________________________________________\n",
      "dense_4 (Dense)              (None, 100)               30100     \n",
      "_________________________________________________________________\n",
      "dense_5 (Dense)              (None, 10)                1010      \n",
      "=================================================================\n",
      "Total params: 266,610\n",
      "Trainable params: 266,610\n",
      "Non-trainable params: 0\n",
      "_________________________________________________________________\n"
     ]
    }
   ],
   "source": [
    "model.summary()"
   ]
  },
  {
   "cell_type": "code",
   "execution_count": 71,
   "metadata": {
    "scrolled": false
   },
   "outputs": [
    {
     "name": "stdout",
     "output_type": "stream",
     "text": [
      "Epoch 1/30\n",
      "1719/1719 [==============================] - 7s 4ms/step - loss: 0.7226 - sparse_categorical_accuracy: 0.7613 - val_loss: 0.5184 - val_sparse_categorical_accuracy: 0.8238\n",
      "Epoch 2/30\n",
      "1719/1719 [==============================] - 6s 4ms/step - loss: 0.4906 - sparse_categorical_accuracy: 0.8298 - val_loss: 0.4391 - val_sparse_categorical_accuracy: 0.8524\n",
      "Epoch 3/30\n",
      "1719/1719 [==============================] - 5s 3ms/step - loss: 0.4446 - sparse_categorical_accuracy: 0.8452 - val_loss: 0.4302 - val_sparse_categorical_accuracy: 0.8518\n",
      "Epoch 4/30\n",
      "1719/1719 [==============================] - 6s 3ms/step - loss: 0.4182 - sparse_categorical_accuracy: 0.8535 - val_loss: 0.3995 - val_sparse_categorical_accuracy: 0.8610\n",
      "Epoch 5/30\n",
      "1719/1719 [==============================] - 5s 3ms/step - loss: 0.3972 - sparse_categorical_accuracy: 0.8602 - val_loss: 0.3775 - val_sparse_categorical_accuracy: 0.8694\n",
      "Epoch 6/30\n",
      "1719/1719 [==============================] - 6s 3ms/step - loss: 0.3815 - sparse_categorical_accuracy: 0.8659 - val_loss: 0.3750 - val_sparse_categorical_accuracy: 0.8720\n",
      "Epoch 7/30\n",
      "1719/1719 [==============================] - 5s 3ms/step - loss: 0.3686 - sparse_categorical_accuracy: 0.8702 - val_loss: 0.3772 - val_sparse_categorical_accuracy: 0.8646\n",
      "Epoch 8/30\n",
      "1719/1719 [==============================] - 5s 3ms/step - loss: 0.3561 - sparse_categorical_accuracy: 0.8745 - val_loss: 0.3534 - val_sparse_categorical_accuracy: 0.8748\n",
      "Epoch 9/30\n",
      "1719/1719 [==============================] - 5s 3ms/step - loss: 0.3467 - sparse_categorical_accuracy: 0.8775 - val_loss: 0.3485 - val_sparse_categorical_accuracy: 0.8782\n",
      "Epoch 10/30\n",
      "1719/1719 [==============================] - 6s 4ms/step - loss: 0.3368 - sparse_categorical_accuracy: 0.8799 - val_loss: 0.3473 - val_sparse_categorical_accuracy: 0.8808\n",
      "Epoch 11/30\n",
      "1719/1719 [==============================] - 6s 3ms/step - loss: 0.3285 - sparse_categorical_accuracy: 0.8839 - val_loss: 0.3385 - val_sparse_categorical_accuracy: 0.8790\n",
      "Epoch 12/30\n",
      "1719/1719 [==============================] - 5s 3ms/step - loss: 0.3212 - sparse_categorical_accuracy: 0.8851 - val_loss: 0.3401 - val_sparse_categorical_accuracy: 0.8786\n",
      "Epoch 13/30\n",
      "1719/1719 [==============================] - 5s 3ms/step - loss: 0.3143 - sparse_categorical_accuracy: 0.8874 - val_loss: 0.3312 - val_sparse_categorical_accuracy: 0.8804\n",
      "Epoch 14/30\n",
      "1719/1719 [==============================] - 6s 3ms/step - loss: 0.3070 - sparse_categorical_accuracy: 0.8898 - val_loss: 0.3547 - val_sparse_categorical_accuracy: 0.8708\n",
      "Epoch 15/30\n",
      "1719/1719 [==============================] - 5s 3ms/step - loss: 0.3006 - sparse_categorical_accuracy: 0.8918 - val_loss: 0.3271 - val_sparse_categorical_accuracy: 0.8772\n",
      "Epoch 16/30\n",
      "1719/1719 [==============================] - 5s 3ms/step - loss: 0.2956 - sparse_categorical_accuracy: 0.8945 - val_loss: 0.3218 - val_sparse_categorical_accuracy: 0.8842\n",
      "Epoch 17/30\n",
      "1719/1719 [==============================] - 5s 3ms/step - loss: 0.2886 - sparse_categorical_accuracy: 0.8964 - val_loss: 0.3356 - val_sparse_categorical_accuracy: 0.8756\n",
      "Epoch 18/30\n",
      "1719/1719 [==============================] - 5s 3ms/step - loss: 0.2843 - sparse_categorical_accuracy: 0.8981 - val_loss: 0.3161 - val_sparse_categorical_accuracy: 0.8908\n",
      "Epoch 19/30\n",
      "1719/1719 [==============================] - 5s 3ms/step - loss: 0.2793 - sparse_categorical_accuracy: 0.8982 - val_loss: 0.3378 - val_sparse_categorical_accuracy: 0.8814\n",
      "Epoch 20/30\n",
      "1719/1719 [==============================] - 5s 3ms/step - loss: 0.2728 - sparse_categorical_accuracy: 0.9019 - val_loss: 0.3216 - val_sparse_categorical_accuracy: 0.8846\n",
      "Epoch 21/30\n",
      "1719/1719 [==============================] - 5s 3ms/step - loss: 0.2682 - sparse_categorical_accuracy: 0.9036 - val_loss: 0.3117 - val_sparse_categorical_accuracy: 0.8878\n",
      "Epoch 22/30\n",
      "1719/1719 [==============================] - 5s 3ms/step - loss: 0.2636 - sparse_categorical_accuracy: 0.9060 - val_loss: 0.3126 - val_sparse_categorical_accuracy: 0.8870\n",
      "Epoch 23/30\n",
      "1719/1719 [==============================] - 5s 3ms/step - loss: 0.2587 - sparse_categorical_accuracy: 0.9065 - val_loss: 0.3140 - val_sparse_categorical_accuracy: 0.8860\n",
      "Epoch 24/30\n",
      "1719/1719 [==============================] - 5s 3ms/step - loss: 0.2553 - sparse_categorical_accuracy: 0.9079 - val_loss: 0.3151 - val_sparse_categorical_accuracy: 0.8848\n",
      "Epoch 25/30\n",
      "1719/1719 [==============================] - 5s 3ms/step - loss: 0.2510 - sparse_categorical_accuracy: 0.9091 - val_loss: 0.3001 - val_sparse_categorical_accuracy: 0.8896\n",
      "Epoch 26/30\n",
      "1719/1719 [==============================] - 5s 3ms/step - loss: 0.2460 - sparse_categorical_accuracy: 0.9115 - val_loss: 0.3072 - val_sparse_categorical_accuracy: 0.8874\n",
      "Epoch 27/30\n",
      "1719/1719 [==============================] - 6s 3ms/step - loss: 0.2412 - sparse_categorical_accuracy: 0.9130 - val_loss: 0.3082 - val_sparse_categorical_accuracy: 0.8880\n",
      "Epoch 28/30\n",
      "1719/1719 [==============================] - 5s 3ms/step - loss: 0.2374 - sparse_categorical_accuracy: 0.9146 - val_loss: 0.3085 - val_sparse_categorical_accuracy: 0.8904\n",
      "Epoch 29/30\n",
      "1719/1719 [==============================] - 5s 3ms/step - loss: 0.2331 - sparse_categorical_accuracy: 0.9159 - val_loss: 0.3111 - val_sparse_categorical_accuracy: 0.8878\n",
      "Epoch 30/30\n",
      "1719/1719 [==============================] - 5s 3ms/step - loss: 0.2299 - sparse_categorical_accuracy: 0.9171 - val_loss: 0.2970 - val_sparse_categorical_accuracy: 0.8932\n"
     ]
    }
   ],
   "source": [
    "history = model.fit(X_train, y_train,\n",
    "                   epochs=30,\n",
    "                   validation_data=(X_valid, y_valid))"
   ]
  },
  {
   "cell_type": "code",
   "execution_count": 81,
   "metadata": {},
   "outputs": [
    {
     "data": {
      "image/png": "[encoded data removed]",
      "text/plain": [
       "<Figure size 576x360 with 1 Axes>"
      ]
     },
     "metadata": {
      "needs_background": "light"
     },
     "output_type": "display_data"
    }
   ],
   "source": [
    "pd.DataFrame(history.history).plot(figsize=(8, 5))\n",
    "plt.grid(True)\n",
    "plt.gca().set_ylim(0, 1)\n",
    "plt.show()"
   ]
  },
  {
   "cell_type": "code",
   "execution_count": 82,
   "metadata": {},
   "outputs": [
    {
     "name": "stdout",
     "output_type": "stream",
     "text": [
      "313/313 [==============================] - 1s 2ms/step - loss: 60.4415 - sparse_categorical_accuracy: 0.8579\n"
     ]
    },
    {
     "data": {
      "text/plain": [
       "[60.441532135009766, 0.8579000234603882]"
      ]
     },
     "execution_count": 82,
     "metadata": {},
     "output_type": "execute_result"
    }
   ],
   "source": [
    "model.evaluate(X_test, y_test)"
   ]
  },
  {
   "cell_type": "code",
   "execution_count": 101,
   "metadata": {},
   "outputs": [
    {
     "name": "stdout",
     "output_type": "stream",
     "text": [
      "['boots']\n"
     ]
    },
    {
     "data": {
      "image/png": "[encoded data removed]",
      "text/plain": [
       "<PIL.Image.Image image mode=L size=28x28 at 0x23D276ACE88>"
      ]
     },
     "metadata": {},
     "output_type": "display_data"
    },
    {
     "name": "stdout",
     "output_type": "stream",
     "text": [
      "---------------\n",
      "\n",
      "['jumper']\n"
     ]
    },
    {
     "data": {
      "image/png": "[encoded data removed]",
      "text/plain": [
       "<PIL.Image.Image image mode=L size=28x28 at 0x23D2A472508>"
      ]
     },
     "metadata": {},
     "output_type": "display_data"
    },
    {
     "name": "stdout",
     "output_type": "stream",
     "text": [
      "---------------\n",
      "\n",
      "['trousers']\n"
     ]
    },
    {
     "data": {
      "image/png": "[encoded data removed]",
      "text/plain": [
       "<PIL.Image.Image image mode=L size=28x28 at 0x23D27649D48>"
      ]
     },
     "metadata": {},
     "output_type": "display_data"
    },
    {
     "name": "stdout",
     "output_type": "stream",
     "text": [
      "---------------\n",
      "\n",
      "['trousers']\n"
     ]
    },
    {
     "data": {
      "image/png": "[encoded data removed]",
      "text/plain": [
       "<PIL.Image.Image image mode=L size=28x28 at 0x23D275FF788>"
      ]
     },
     "metadata": {},
     "output_type": "display_data"
    },
    {
     "name": "stdout",
     "output_type": "stream",
     "text": [
      "---------------\n",
      "\n",
      "['shirt']\n"
     ]
    },
    {
     "data": {
      "image/png": "[encoded data removed]",
      "text/plain": [
       "<PIL.Image.Image image mode=L size=28x28 at 0x23D27830E48>"
      ]
     },
     "metadata": {},
     "output_type": "display_data"
    },
    {
     "name": "stdout",
     "output_type": "stream",
     "text": [
      "---------------\n",
      "\n",
      "['trousers']\n"
     ]
    },
    {
     "data": {
      "image/png": "[encoded data removed]",
      "text/plain": [
       "<PIL.Image.Image image mode=L size=28x28 at 0x23D27995548>"
      ]
     },
     "metadata": {},
     "output_type": "display_data"
    },
    {
     "name": "stdout",
     "output_type": "stream",
     "text": [
      "---------------\n",
      "\n",
      "['coat']\n"
     ]
    },
    {
     "data": {
      "image/png": "[encoded data removed]",
      "text/plain": [
       "<PIL.Image.Image image mode=L size=28x28 at 0x23D27856288>"
      ]
     },
     "metadata": {},
     "output_type": "display_data"
    },
    {
     "name": "stdout",
     "output_type": "stream",
     "text": [
      "---------------\n",
      "\n",
      "['shirt']\n"
     ]
    },
    {
     "data": {
      "image/png": "[encoded data removed]",
      "text/plain": [
       "<PIL.Image.Image image mode=L size=28x28 at 0x23D27BAD408>"
      ]
     },
     "metadata": {},
     "output_type": "display_data"
    },
    {
     "name": "stdout",
     "output_type": "stream",
     "text": [
      "---------------\n",
      "\n",
      "['sandals']\n"
     ]
    },
    {
     "data": {
      "image/png": "[encoded data removed]",
      "text/plain": [
       "<PIL.Image.Image image mode=L size=28x28 at 0x23D27BADB48>"
      ]
     },
     "metadata": {},
     "output_type": "display_data"
    },
    {
     "name": "stdout",
     "output_type": "stream",
     "text": [
      "---------------\n",
      "\n",
      "['trainers']\n"
     ]
    },
    {
     "data": {
      "image/png": "[encoded data removed]",
      "text/plain": [
       "<PIL.Image.Image image mode=L size=28x28 at 0x23D27BAD7C8>"
      ]
     },
     "metadata": {},
     "output_type": "display_data"
    },
    {
     "name": "stdout",
     "output_type": "stream",
     "text": [
      "---------------\n",
      "\n"
     ]
    }
   ],
   "source": [
    "# couple of predictions\n",
    "\n",
    "for i in range(10):\n",
    "\n",
    "    predictions = np.argmax(model.predict(X_test[i].reshape(1, 28, 28)), axis=1)\n",
    "    print(np.array(class_names)[predictions])\n",
    "    display(Image.fromarray(X_test[i]))\n",
    "    print('---------------\\n')"
   ]
  }
 ],
 "metadata": {
  "kernelspec": {
   "display_name": "Python 3",
   "language": "python",
   "name": "python3"
  },
  "language_info": {
   "codemirror_mode": {
    "name": "ipython",
    "version": 3
   },
   "file_extension": ".py",
   "mimetype": "text/x-python",
   "name": "python",
   "nbconvert_exporter": "python",
   "pygments_lexer": "ipython3",
   "version": "3.7.7"
  }
 },
 "nbformat": 4,
 "nbformat_minor": 4
}
