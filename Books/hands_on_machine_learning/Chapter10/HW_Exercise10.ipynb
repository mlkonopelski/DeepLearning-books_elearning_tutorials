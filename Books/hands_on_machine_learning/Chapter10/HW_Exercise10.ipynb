{
 "cells": [
  {
   "cell_type": "markdown",
   "metadata": {},
   "source": [
    "# data and environment "
   ]
  },
  {
   "cell_type": "code",
   "execution_count": 1,
   "metadata": {},
   "outputs": [],
   "source": [
    "import os \n",
    "import time\n",
    "\n",
    "from tensorflow import keras\n",
    "import numpy as np\n",
    "\n",
    "from sklearn.model_selection import train_test_split, GridSearchCV"
   ]
  },
  {
   "cell_type": "code",
   "execution_count": 48,
   "metadata": {},
   "outputs": [],
   "source": [
    "data = keras.datasets.mnist.load_data()"
   ]
  },
  {
   "cell_type": "code",
   "execution_count": 50,
   "metadata": {},
   "outputs": [],
   "source": [
    "X_train, X_val, y_train, y_val = train_test_split(data[0][0], data[0][1])\n",
    "X_test, y_test = data[1][0], data[1][1]"
   ]
  },
  {
   "cell_type": "code",
   "execution_count": 56,
   "metadata": {},
   "outputs": [],
   "source": [
    "X_train = X_train / 255.0\n",
    "X_val = X_val / 255.0\n",
    "X_test = X_test / 255.0"
   ]
  },
  {
   "cell_type": "markdown",
   "metadata": {},
   "source": [
    "# Implementation of basic model"
   ]
  },
  {
   "cell_type": "code",
   "execution_count": 19,
   "metadata": {},
   "outputs": [],
   "source": [
    "def build_model(lr_choice=0.001):\n",
    "    \n",
    "    model = keras.models.Sequential([\n",
    "            keras.layers.Flatten(input_shape=[28,28]),\n",
    "            keras.layers.Dense(units=60, activation=keras.activations.relu),\n",
    "            keras.layers.Dense(units=60, activation=keras.activations.relu),\n",
    "            keras.layers.Dense(units=10, activation=keras.activations.softmax)])\n",
    "    \n",
    "    model.compile(optimizer=keras.optimizers.Adam(learning_rate=lr_choice),\n",
    "                  loss=keras.losses.sparse_categorical_crossentropy,\n",
    "                  metrics=['accuracy'])\n",
    "    \n",
    "    return model"
   ]
  },
  {
   "cell_type": "markdown",
   "metadata": {},
   "source": [
    "### TF way"
   ]
  },
  {
   "cell_type": "code",
   "execution_count": 81,
   "metadata": {},
   "outputs": [
    {
     "name": "stdout",
     "output_type": "stream",
     "text": [
      "Epoch 1/25\n",
      "1407/1407 - 3s - loss: 1.1061 - accuracy: 0.6562 - val_loss: 67.2753 - val_accuracy: 0.6785\n",
      "Epoch 2/25\n",
      "1407/1407 - 2s - loss: 0.5202 - accuracy: 0.8450 - val_loss: 64.0071 - val_accuracy: 0.7312\n",
      "Epoch 3/25\n",
      "1407/1407 - 2s - loss: 0.4205 - accuracy: 0.8757 - val_loss: 60.5548 - val_accuracy: 0.7540\n",
      "Epoch 4/25\n",
      "1407/1407 - 2s - loss: 0.3798 - accuracy: 0.8886 - val_loss: 61.7314 - val_accuracy: 0.7655\n",
      "Epoch 5/25\n",
      "1407/1407 - 2s - loss: 0.3522 - accuracy: 0.8983 - val_loss: 55.7784 - val_accuracy: 0.7903\n",
      "Epoch 6/25\n",
      "1407/1407 - 2s - loss: 0.3279 - accuracy: 0.9055 - val_loss: 50.4488 - val_accuracy: 0.8044\n",
      "Epoch 7/25\n",
      "1407/1407 - 2s - loss: 0.3061 - accuracy: 0.9112 - val_loss: 45.1864 - val_accuracy: 0.8247\n",
      "Epoch 8/25\n",
      "1407/1407 - 2s - loss: 0.2871 - accuracy: 0.9163 - val_loss: 41.7207 - val_accuracy: 0.8375\n",
      "Epoch 9/25\n",
      "1407/1407 - 3s - loss: 0.2708 - accuracy: 0.9214 - val_loss: 37.4134 - val_accuracy: 0.8536\n",
      "Epoch 10/25\n",
      "1407/1407 - 3s - loss: 0.2570 - accuracy: 0.9252 - val_loss: 36.4693 - val_accuracy: 0.8553\n",
      "Epoch 11/25\n",
      "1407/1407 - 3s - loss: 0.2444 - accuracy: 0.9283 - val_loss: 34.7426 - val_accuracy: 0.8627\n",
      "Epoch 12/25\n",
      "1407/1407 - 3s - loss: 0.2331 - accuracy: 0.9315 - val_loss: 32.9247 - val_accuracy: 0.8683\n",
      "Epoch 13/25\n",
      "1407/1407 - 2s - loss: 0.2231 - accuracy: 0.9351 - val_loss: 32.7653 - val_accuracy: 0.8689\n",
      "Epoch 14/25\n",
      "1407/1407 - 2s - loss: 0.2129 - accuracy: 0.9383 - val_loss: 32.0014 - val_accuracy: 0.8741\n",
      "Epoch 15/25\n",
      "1407/1407 - 2s - loss: 0.2041 - accuracy: 0.9411 - val_loss: 30.9633 - val_accuracy: 0.8761\n",
      "Epoch 16/25\n",
      "1407/1407 - 2s - loss: 0.1954 - accuracy: 0.9430 - val_loss: 29.6460 - val_accuracy: 0.8818\n",
      "Epoch 17/25\n",
      "1407/1407 - 2s - loss: 0.1880 - accuracy: 0.9455 - val_loss: 29.8973 - val_accuracy: 0.8808\n",
      "Epoch 18/25\n",
      "1407/1407 - 2s - loss: 0.1806 - accuracy: 0.9471 - val_loss: 27.4890 - val_accuracy: 0.8915\n",
      "Epoch 19/25\n",
      "1407/1407 - 2s - loss: 0.1740 - accuracy: 0.9494 - val_loss: 27.1542 - val_accuracy: 0.8931\n",
      "Epoch 20/25\n",
      "1407/1407 - 2s - loss: 0.1672 - accuracy: 0.9512 - val_loss: 27.8607 - val_accuracy: 0.8919\n",
      "Epoch 21/25\n",
      "1407/1407 - 2s - loss: 0.1608 - accuracy: 0.9528 - val_loss: 27.1354 - val_accuracy: 0.8962\n",
      "Epoch 22/25\n",
      "1407/1407 - 2s - loss: 0.1543 - accuracy: 0.9553 - val_loss: 27.5343 - val_accuracy: 0.8954\n",
      "Epoch 23/25\n",
      "1407/1407 - 2s - loss: 0.1493 - accuracy: 0.9562 - val_loss: 28.4968 - val_accuracy: 0.8927\n",
      "Epoch 24/25\n",
      "1407/1407 - 2s - loss: 0.1435 - accuracy: 0.9579 - val_loss: 27.9091 - val_accuracy: 0.8961\n",
      "Epoch 25/25\n",
      "1407/1407 - 2s - loss: 0.1387 - accuracy: 0.9595 - val_loss: 27.2453 - val_accuracy: 0.8993\n",
      "313/313 [==============================] - 0s 1ms/step - loss: 25.1804 - accuracy: 0.9077\n"
     ]
    },
    {
     "data": {
      "text/plain": [
       "[25.180408477783203, 0.9077000021934509]"
      ]
     },
     "execution_count": 81,
     "metadata": {},
     "output_type": "execute_result"
    }
   ],
   "source": [
    "model = build_model()\n",
    "\n",
    "model.fit(X_train, y_train,\n",
    "          epochs=25, \n",
    "          validation_data=(X_val, y_val),\n",
    "          callbacks=[keras.callbacks.EarlyStopping(patience=10),],\n",
    "          verbose=0)\n",
    "\n",
    "model.evaluate(X_test, y_test)"
   ]
  },
  {
   "cell_type": "code",
   "execution_count": 94,
   "metadata": {},
   "outputs": [
    {
     "name": "stdout",
     "output_type": "stream",
     "text": [
      "Model: \"sequential_17\"\n",
      "_________________________________________________________________\n",
      "Layer (type)                 Output Shape              Param #   \n",
      "=================================================================\n",
      "flatten_17 (Flatten)         (None, 784)               0         \n",
      "_________________________________________________________________\n",
      "dense_75 (Dense)             (None, 60)                47100     \n",
      "_________________________________________________________________\n",
      "dense_76 (Dense)             (None, 60)                3660      \n",
      "_________________________________________________________________\n",
      "dense_77 (Dense)             (None, 10)                610       \n",
      "=================================================================\n",
      "Total params: 51,370\n",
      "Trainable params: 51,370\n",
      "Non-trainable params: 0\n",
      "_________________________________________________________________\n"
     ]
    }
   ],
   "source": [
    "model.summary()"
   ]
  },
  {
   "cell_type": "markdown",
   "metadata": {},
   "source": [
    "### keras way"
   ]
  },
  {
   "cell_type": "code",
   "execution_count": 20,
   "metadata": {},
   "outputs": [],
   "source": [
    "keras_reg = keras.wrappers.scikit_learn.KerasClassifier(build_model)"
   ]
  },
  {
   "cell_type": "code",
   "execution_count": 21,
   "metadata": {},
   "outputs": [],
   "source": [
    "path = os.path.join(os.curdir, 'TenserBoard_logs', time.strftime('hyperopt_tuning_%Y%m%d_%H%M%S'))"
   ]
  },
  {
   "cell_type": "code",
   "execution_count": 22,
   "metadata": {},
   "outputs": [
    {
     "name": "stdout",
     "output_type": "stream",
     "text": [
      "Epoch 1/100\n",
      "WARNING:tensorflow:Callbacks method `on_test_batch_begin` is slow compared to the batch time (batch time: 0.0005s vs `on_test_batch_begin` time: 0.0010s). Check your callbacks.\n",
      "1407/1407 - 3s - loss: 2.0284 - accuracy: 0.8309 - val_loss: 0.7176 - val_accuracy: 0.8782\n",
      "Epoch 2/100\n",
      "1407/1407 - 2s - loss: 0.4333 - accuracy: 0.9033 - val_loss: 0.4440 - val_accuracy: 0.9011\n",
      "Epoch 3/100\n",
      "1407/1407 - 2s - loss: 0.3212 - accuracy: 0.9192 - val_loss: 0.3585 - val_accuracy: 0.9194\n",
      "Epoch 4/100\n",
      "1407/1407 - 2s - loss: 0.2621 - accuracy: 0.9310 - val_loss: 0.3774 - val_accuracy: 0.9130\n",
      "Epoch 5/100\n",
      "1407/1407 - 3s - loss: 0.2320 - accuracy: 0.9388 - val_loss: 0.2750 - val_accuracy: 0.9315\n",
      "Epoch 6/100\n",
      "1407/1407 - 2s - loss: 0.1862 - accuracy: 0.9477 - val_loss: 0.3039 - val_accuracy: 0.9265\n",
      "Epoch 7/100\n",
      "1407/1407 - 2s - loss: 0.1795 - accuracy: 0.9501 - val_loss: 0.2444 - val_accuracy: 0.9411\n",
      "Epoch 8/100\n",
      "1407/1407 - 2s - loss: 0.1532 - accuracy: 0.9565 - val_loss: 0.2195 - val_accuracy: 0.9434\n",
      "Epoch 9/100\n",
      "1407/1407 - 2s - loss: 0.1438 - accuracy: 0.9589 - val_loss: 0.2581 - val_accuracy: 0.9454\n",
      "Epoch 10/100\n",
      "1407/1407 - 2s - loss: 0.1254 - accuracy: 0.9634 - val_loss: 0.2790 - val_accuracy: 0.9404\n",
      "Epoch 11/100\n",
      "1407/1407 - 2s - loss: 0.1211 - accuracy: 0.9664 - val_loss: 0.2579 - val_accuracy: 0.9467\n",
      "Epoch 12/100\n",
      "1407/1407 - 2s - loss: 0.1105 - accuracy: 0.9685 - val_loss: 0.2062 - val_accuracy: 0.9518\n",
      "Epoch 13/100\n",
      "1407/1407 - 2s - loss: 0.1069 - accuracy: 0.9694 - val_loss: 0.2048 - val_accuracy: 0.9519\n",
      "Epoch 14/100\n",
      "1407/1407 - 2s - loss: 0.0998 - accuracy: 0.9716 - val_loss: 0.2287 - val_accuracy: 0.9493\n",
      "Epoch 15/100\n",
      "1407/1407 - 2s - loss: 0.0957 - accuracy: 0.9728 - val_loss: 0.1890 - val_accuracy: 0.9576\n",
      "Epoch 16/100\n",
      "1407/1407 - 3s - loss: 0.0894 - accuracy: 0.9743 - val_loss: 0.2096 - val_accuracy: 0.9565\n",
      "Epoch 17/100\n",
      "1407/1407 - 3s - loss: 0.0850 - accuracy: 0.9754 - val_loss: 0.2469 - val_accuracy: 0.9493\n",
      "Epoch 18/100\n",
      "1407/1407 - 2s - loss: 0.0837 - accuracy: 0.9765 - val_loss: 0.2159 - val_accuracy: 0.9584\n",
      "Epoch 19/100\n",
      "1407/1407 - 2s - loss: 0.0805 - accuracy: 0.9773 - val_loss: 0.2056 - val_accuracy: 0.9601\n",
      "Epoch 20/100\n",
      "1407/1407 - 2s - loss: 0.0795 - accuracy: 0.9778 - val_loss: 0.2325 - val_accuracy: 0.9550\n",
      "Epoch 21/100\n",
      "1407/1407 - 2s - loss: 0.0791 - accuracy: 0.9773 - val_loss: 0.2255 - val_accuracy: 0.9563\n",
      "Epoch 22/100\n",
      "1407/1407 - 2s - loss: 0.0730 - accuracy: 0.9794 - val_loss: 0.2126 - val_accuracy: 0.9615\n",
      "Epoch 23/100\n",
      "1407/1407 - 2s - loss: 0.0717 - accuracy: 0.9802 - val_loss: 0.2374 - val_accuracy: 0.9568\n",
      "Epoch 24/100\n",
      "1407/1407 - 2s - loss: 0.0716 - accuracy: 0.9800 - val_loss: 0.2124 - val_accuracy: 0.9583\n",
      "Epoch 25/100\n",
      "1407/1407 - 3s - loss: 0.0637 - accuracy: 0.9824 - val_loss: 0.2320 - val_accuracy: 0.9573\n",
      "313/313 [==============================] - 1s 2ms/step - loss: 0.2104 - accuracy: 0.9624\n"
     ]
    }
   ],
   "source": [
    "keras_reg.fit(X_train, y_train, \n",
    "              epochs=100,\n",
    "              validation_data=(X_val, y_val),\n",
    "              callbacks=[keras.callbacks.EarlyStopping(patience=10),\n",
    "                         ],\n",
    "              verbose=2)\n",
    "\n",
    "mse_test = keras_reg.score(X_test, y_test)"
   ]
  },
  {
   "cell_type": "markdown",
   "metadata": {},
   "source": [
    "# GridSearch for lr value"
   ]
  },
  {
   "cell_type": "code",
   "execution_count": 24,
   "metadata": {},
   "outputs": [],
   "source": [
    "params = {'learning_rate': [0.0000001, 0.000001,0.00001, 0.0001, 0.001, 0.01, 0.1, 1, 10, 100]}"
   ]
  },
  {
   "cell_type": "code",
   "execution_count": 24,
   "metadata": {},
   "outputs": [],
   "source": [
    "%time\n",
    "rnd_search_cv = GridSearchCV(estimator=keras_reg, \n",
    "                             param_grid=params, \n",
    "                             cv=5,\n",
    "                             n_jobs=-1)"
   ]
  },
  {
   "cell_type": "code",
   "execution_count": null,
   "metadata": {},
   "outputs": [],
   "source": [
    "%time\n",
    "rnd_search_cv.fit(X_train, y_train, epochs=100)"
   ]
  },
  {
   "cell_type": "code",
   "execution_count": null,
   "metadata": {},
   "outputs": [],
   "source": [
    "import pandas as pd\n",
    "pd.DataFrame(rnd_search_cv.cv_results_)"
   ]
  },
  {
   "cell_type": "code",
   "execution_count": null,
   "metadata": {},
   "outputs": [],
   "source": [
    "rnd_search_cv.score(X_test, y_test)"
   ]
  },
  {
   "cell_type": "markdown",
   "metadata": {},
   "source": [
    "# TPESuggest for best architecture"
   ]
  },
  {
   "cell_type": "code",
   "execution_count": 115,
   "metadata": {},
   "outputs": [],
   "source": [
    "from hyperopt import hp, fmin, tpe, STATUS_OK, Trials, space_eval"
   ]
  },
  {
   "cell_type": "code",
   "execution_count": 106,
   "metadata": {},
   "outputs": [],
   "source": [
    "def objective(params):\n",
    "    \n",
    "    print(params)\n",
    "    \n",
    "    model = keras.models.Sequential()\n",
    "    \n",
    "    model.add(keras.layers.Flatten(input_shape=[28, 28]))\n",
    "              \n",
    "    model.add(keras.layers.Dense(units=int(params['neuronos_first_layer']), activation=params['activation']))\n",
    "    model.add(keras.layers.Dropout(params['drop_outs']))\n",
    "    \n",
    "    for layer in range(params['layers']):\n",
    "        model.add(keras.layers.Dense(units=int(params['neurons_other_layers']), activation=params['activation']))\n",
    "        model.add(keras.layers.Dropout(params['drop_outs']))\n",
    "              \n",
    "    model.add(keras.layers.Dense(units=10, activation=keras.activations.softmax))\n",
    "    \n",
    "    model.compile(optimizer=keras.optimizers.Adam(learning_rate=params['learning_rate']),\n",
    "                 loss=keras.losses.SparseCategoricalCrossentropy(),\n",
    "                 metrics=[keras.metrics.SparseCategoricalAccuracy()])\n",
    "    \n",
    "    #model.summary()\n",
    "    \n",
    "    model.fit(X_train,\n",
    "              y_train,\n",
    "              batch_size=32,\n",
    "              epochs=50,\n",
    "              verbose=0)\n",
    "\n",
    "    val_score = model.evaluate(X_val, y_val,\n",
    "                              verbose=0)\n",
    "    \n",
    "    return {\n",
    "        'loss':  - val_score[0],\n",
    "        'accuracy': val_score[1],\n",
    "        'status': STATUS_OK,\n",
    "        'eval_time': time.time()\n",
    "        }\n"
   ]
  },
  {
   "cell_type": "code",
   "execution_count": 100,
   "metadata": {},
   "outputs": [
    {
     "data": {
      "text/plain": [
       "{'loss': -34.215789794921875,\n",
       " 'accuracy': 0.8813333511352539,\n",
       " 'status': 'ok',\n",
       " 'eval_time': 1602942359.605903}"
      ]
     },
     "execution_count": 100,
     "metadata": {},
     "output_type": "execute_result"
    }
   ],
   "source": [
    "params_test = {\n",
    "    'layers' : 1,\n",
    "    'neuronos_first_layer': 60,\n",
    "    'neurons_other_layers': 60,\n",
    "    'drop_outs': 0,\n",
    "    'activation': keras.activations.relu,\n",
    "    'learning_rate': 0.001,\n",
    "    'epochs': 25\n",
    "}\n",
    "\n",
    "objective(params_test)"
   ]
  },
  {
   "cell_type": "code",
   "execution_count": 111,
   "metadata": {},
   "outputs": [],
   "source": [
    "params = {\n",
    "    'layers' : hp.choice('layers', [2, 3, 4, 5, 6]),\n",
    "    'neuronos_first_layer': hp.quniform('neuronos_first_layer', 10, 500, 1),\n",
    "    'neurons_other_layers': hp.quniform('neurons_other_layers', 1, 500, 1),\n",
    "    'drop_outs': hp.uniform('drop_outs', 0, 1),\n",
    "    'activation': hp.choice('activation', [keras.activations.relu, keras.activations.tanh]),\n",
    "    'learning_rate': hp.uniform('learning_rate', 0.00001, 0.1)}"
   ]
  },
  {
   "cell_type": "code",
   "execution_count": 113,
   "metadata": {},
   "outputs": [
    {
     "name": "stdout",
     "output_type": "stream",
     "text": [
      "{'activation': <function tanh at 0x000002A22AE9F828>, 'drop_outs': 0.7445290868925796, 'layers': 5, 'learning_rate': 0.02976171135504619, 'neuronos_first_layer': 402.0, 'neurons_other_layers': 224.0}\n",
      "{'activation': <function tanh at 0x000002A22AE9F828>, 'drop_outs': 0.27880638944177283, 'layers': 4, 'learning_rate': 0.014923186581504707, 'neuronos_first_layer': 200.0, 'neurons_other_layers': 203.0}\n",
      "{'activation': <function tanh at 0x000002A22AE9F828>, 'drop_outs': 0.3933603852469947, 'layers': 6, 'learning_rate': 0.0657347785253221, 'neuronos_first_layer': 196.0, 'neurons_other_layers': 368.0}\n",
      "100%|██████████████████████████████████████████████████████████████████████████████████████████████████████████████████████| 3/3 [28:13<00:00, 564.57s/trial, best loss: -7.765527725219727]\n"
     ]
    }
   ],
   "source": [
    "trials = Trials()\n",
    "\n",
    "best = fmin(fn=objective,\n",
    "           space=params,\n",
    "           algo=tpe.suggest,\n",
    "           max_evals=3,\n",
    "           trials=trials,\n",
    "           verbose=True,\n",
    "           show_progressbar=True)"
   ]
  },
  {
   "cell_type": "code",
   "execution_count": 116,
   "metadata": {},
   "outputs": [
    {
     "data": {
      "text/plain": [
       "{'activation': <function tensorflow.python.keras.activations.tanh(x)>,\n",
       " 'drop_outs': 0.3933603852469947,\n",
       " 'layers': 6,\n",
       " 'learning_rate': 0.0657347785253221,\n",
       " 'neuronos_first_layer': 196.0,\n",
       " 'neurons_other_layers': 368.0}"
      ]
     },
     "execution_count": 116,
     "metadata": {},
     "output_type": "execute_result"
    }
   ],
   "source": [
    "space_eval(params, best)"
   ]
  },
  {
   "cell_type": "code",
   "execution_count": null,
   "metadata": {},
   "outputs": [],
   "source": []
  }
 ],
 "metadata": {
  "kernelspec": {
   "display_name": "Python 3",
   "language": "python",
   "name": "python3"
  },
  "language_info": {
   "codemirror_mode": {
    "name": "ipython",
    "version": 3
   },
   "file_extension": ".py",
   "mimetype": "text/x-python",
   "name": "python",
   "nbconvert_exporter": "python",
   "pygments_lexer": "ipython3",
   "version": "3.7.7"
  }
 },
 "nbformat": 4,
 "nbformat_minor": 4
}
