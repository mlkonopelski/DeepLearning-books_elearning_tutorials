{
 "cells": [
  {
   "cell_type": "code",
   "execution_count": 8,
   "metadata": {},
   "outputs": [],
   "source": [
    "import tensorflow as tf\n",
    "from tensorflow.keras import layers\n",
    "from tensorflow.keras import datasets\n",
    "\n",
    "import numpy as np\n",
    "import pandas as pd"
   ]
  },
  {
   "cell_type": "markdown",
   "metadata": {},
   "source": [
    "### Step1: Prepare datasets"
   ]
  },
  {
   "cell_type": "code",
   "execution_count": 7,
   "metadata": {},
   "outputs": [],
   "source": [
    "(X_train, y_train), (X_test, y_test) = datasets.fashion_mnist.load_data()"
   ]
  },
  {
   "cell_type": "code",
   "execution_count": 11,
   "metadata": {},
   "outputs": [],
   "source": [
    "class_names = ['tshirt', 'trousers', 'jumper', 'dress', 'coat',\n",
    "               'sandals', 'shirt', 'trainers', 'bag', 'boots']"
   ]
  },
  {
   "cell_type": "code",
   "execution_count": 12,
   "metadata": {},
   "outputs": [],
   "source": [
    "data = datasets.fashion_mnist.load_data()"
   ]
  },
  {
   "cell_type": "code",
   "execution_count": 138,
   "metadata": {},
   "outputs": [],
   "source": [
    "dim1, dim2, dim3 = data[0][0].shape"
   ]
  },
  {
   "cell_type": "code",
   "execution_count": 120,
   "metadata": {},
   "outputs": [],
   "source": [
    "data_df = pd.DataFrame(data[0][0].reshape((data[0][0].shape[0], 784)))"
   ]
  },
  {
   "cell_type": "code",
   "execution_count": 127,
   "metadata": {},
   "outputs": [],
   "source": [
    "data_df = pd.concat([data_df, pd.Series(data[0][1], name='Y')], axis=1)"
   ]
  },
  {
   "cell_type": "code",
   "execution_count": 178,
   "metadata": {},
   "outputs": [],
   "source": [
    "X_train = data_df[(data_df['Y'] != 0) & (data_df['Y'] != 5)].drop('Y', axis=1).values.reshape((-1, 28, 28))\n",
    "y_train = data_df[(data_df['Y'] != 0) & (data_df['Y'] != 5)]['Y'].values\n",
    "\n",
    "X_B = data_df[(data_df['Y'] == 0) | (data_df['Y'] == 5)].drop('Y', axis=1).values.reshape((-1, 28, 28))\n",
    "y_B = data_df[(data_df['Y'] == 0) | (data_df['Y'] == 5)]['Y'].values\n",
    "y_B = np.where(y_B == 5, 1, 0)\n",
    "\n",
    "X_train_B = X_B[:200] \n",
    "y_train_B = y_B[:200]\n",
    "X_test_B = X_B[200:]\n",
    "y_test_B = y_B[200:]"
   ]
  },
  {
   "cell_type": "code",
   "execution_count": 151,
   "metadata": {},
   "outputs": [],
   "source": [
    "# remove sandals and t-shirt"
   ]
  },
  {
   "cell_type": "code",
   "execution_count": 174,
   "metadata": {},
   "outputs": [],
   "source": [
    "def eval_model(model, X_train, y_train, X_test, y_test):\n",
    "    \n",
    "    model.fit(X_train, y_train, epochs=10, verbose=0)\n",
    "    \n",
    "    print(model.evaluate(X_test, y_test, verbose=0))"
   ]
  },
  {
   "cell_type": "markdown",
   "metadata": {},
   "source": [
    "### Step2: Train and test model on set B"
   ]
  },
  {
   "cell_type": "code",
   "execution_count": 182,
   "metadata": {},
   "outputs": [],
   "source": [
    "def build_model_B():\n",
    "    \n",
    "    model = tf.keras.models.Sequential([\n",
    "        layers.Flatten(input_shape=(28, 28)),\n",
    "        layers.BatchNormalization(),\n",
    "        layers.Dense(units=50, activation='selu', kernel_initializer='lecun_normal'),\n",
    "        layers.Dense(units=50, activation='selu', kernel_initializer='lecun_normal'),\n",
    "        layers.Dense(units=1, activation='sigmoid')\n",
    "    ])\n",
    "    \n",
    "    model.compile(optimizer='adam',\n",
    "                  loss='binary_crossentropy',\n",
    "                  metrics=['accuracy'])\n",
    "    \n",
    "    return model"
   ]
  },
  {
   "cell_type": "code",
   "execution_count": 191,
   "metadata": {},
   "outputs": [],
   "source": [
    "model = build_model_B()"
   ]
  },
  {
   "cell_type": "code",
   "execution_count": 193,
   "metadata": {},
   "outputs": [
    {
     "name": "stdout",
     "output_type": "stream",
     "text": [
      "[0.15262560546398163, 0.9760169386863708]\n",
      "[0.18044421076774597, 0.9761016964912415]\n",
      "[0.19764047861099243, 0.9770339131355286]\n",
      "[0.2177760899066925, 0.9761864542961121]\n",
      "[0.23832030594348907, 0.9766949415206909]\n",
      "[0.2993640899658203, 0.9744067788124084]\n",
      "[0.3276752233505249, 0.9754237532615662]\n",
      "[0.35265687108039856, 0.9754237532615662]\n",
      "613 ms ± 5.48 ms per loop (mean ± std. dev. of 7 runs, 1 loop each)\n"
     ]
    }
   ],
   "source": [
    "%%timeit\n",
    "eval_model(model, X_train_B, y_train_B, X_test_B, y_test_B)"
   ]
  },
  {
   "cell_type": "markdown",
   "metadata": {},
   "source": [
    "### Step2: Fit and save model without t-hisrt and sandals"
   ]
  },
  {
   "cell_type": "code",
   "execution_count": 153,
   "metadata": {},
   "outputs": [],
   "source": [
    "def build_model_A():\n",
    "    \n",
    "    model = tf.keras.models.Sequential([\n",
    "        layers.Flatten(input_shape=(28, 28)),\n",
    "        layers.BatchNormalization(),\n",
    "        layers.Dense(units=50, activation='selu', kernel_initializer='lecun_normal'),\n",
    "        layers.Dense(units=50, activation='selu', kernel_initializer='lecun_normal'),\n",
    "        layers.Dense(units=10, activation='softmax')\n",
    "    ])\n",
    "    \n",
    "    model.compile(optimizer='adam',\n",
    "                  loss='sparse_categorical_crossentropy',\n",
    "                  metrics=['accuracy'])\n",
    "    \n",
    "    return model"
   ]
  },
  {
   "cell_type": "code",
   "execution_count": 155,
   "metadata": {},
   "outputs": [],
   "source": [
    "model = build_model()"
   ]
  },
  {
   "cell_type": "code",
   "execution_count": 156,
   "metadata": {},
   "outputs": [
    {
     "name": "stdout",
     "output_type": "stream",
     "text": [
      "1500/1500 [==============================] - 3s 2ms/step - loss: 0.4154 - accuracy: 0.8509\n"
     ]
    },
    {
     "data": {
      "text/plain": [
       "<tensorflow.python.keras.callbacks.History at 0x252b5fe8788>"
      ]
     },
     "execution_count": 156,
     "metadata": {},
     "output_type": "execute_result"
    }
   ],
   "source": [
    "model.fit(X_train, y_train)"
   ]
  },
  {
   "cell_type": "code",
   "execution_count": 157,
   "metadata": {},
   "outputs": [],
   "source": [
    "model.save('fashion_mnist_model_A.h5')"
   ]
  },
  {
   "cell_type": "code",
   "execution_count": 163,
   "metadata": {},
   "outputs": [
    {
     "name": "stdout",
     "output_type": "stream",
     "text": [
      "(784,)\n",
      "(784,)\n",
      "(784,)\n",
      "(784,)\n",
      "(784, 50)\n",
      "(50,)\n",
      "(50, 50)\n",
      "(50,)\n",
      "(50, 10)\n",
      "(10,)\n"
     ]
    }
   ],
   "source": [
    "for layer in range(len(model.get_weights())):\n",
    "    print(model.get_weights()[layer].shape)"
   ]
  },
  {
   "cell_type": "markdown",
   "metadata": {},
   "source": [
    "### Build Model_B based on Model_A"
   ]
  },
  {
   "cell_type": "code",
   "execution_count": 203,
   "metadata": {},
   "outputs": [],
   "source": [
    "model_A = tf.keras.models.load_model('fashion_mnist_model_A.h5')"
   ]
  },
  {
   "cell_type": "code",
   "execution_count": 204,
   "metadata": {},
   "outputs": [],
   "source": [
    "model_B_on_A = tf.keras.models.Sequential(model_A.layers[-1])\n",
    "model_B_on_A.add(layers.Dense(1, activation='sigmoid'))"
   ]
  },
  {
   "cell_type": "code",
   "execution_count": 205,
   "metadata": {},
   "outputs": [],
   "source": [
    "for layer in model_B_on_A.layers[:-1]:\n",
    "    layer.trainable=False\n",
    "    \n",
    "model_B_on_A.compile(optimizer='adam', loss='binary_crossentropy', metrics=['accuracy'])\n",
    "\n",
    "model_B_on_A.fit(X_train_B, y_train_B, epochs=4, verbose=0)"
   ]
  },
  {
   "cell_type": "code",
   "execution_count": 209,
   "metadata": {},
   "outputs": [
    {
     "data": {
      "text/plain": [
       "(200, 28, 28)"
      ]
     },
     "execution_count": 209,
     "metadata": {},
     "output_type": "execute_result"
    }
   ],
   "source": [
    "for layer in model_B_on_A.layers:\n",
    "    layer.trainable=True\n",
    "    \n",
    "model_B_on_A.compile(optimizer='adam', loss='binary_cross_entropy', metrics=['accuracy'])\n",
    "\n",
    "model_B_on_A.fit(X_train_B, y_train_B, epochs=6, verbose=0)"
   ]
  },
  {
   "cell_type": "code",
   "execution_count": null,
   "metadata": {},
   "outputs": [],
   "source": [
    "%%timeit\n",
    "model_B_on_A.evaluate(X_test_B, y_test_B, verbose=10)"
   ]
  }
 ],
 "metadata": {
  "kernelspec": {
   "display_name": "Python 3",
   "language": "python",
   "name": "python3"
  },
  "language_info": {
   "codemirror_mode": {
    "name": "ipython",
    "version": 3
   },
   "file_extension": ".py",
   "mimetype": "text/x-python",
   "name": "python",
   "nbconvert_exporter": "python",
   "pygments_lexer": "ipython3",
   "version": "3.7.7"
  }
 },
 "nbformat": 4,
 "nbformat_minor": 4
}
