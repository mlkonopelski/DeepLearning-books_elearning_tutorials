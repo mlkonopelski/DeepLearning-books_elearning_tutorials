{
 "cells": [
  {
   "cell_type": "code",
   "execution_count": 83,
   "id": "77dff484-b6b2-4f99-a669-8557266ddff3",
   "metadata": {},
   "outputs": [
    {
     "data": {
      "text/plain": [
       "'2.0.0.dev20230113'"
      ]
     },
     "execution_count": 83,
     "metadata": {},
     "output_type": "execute_result"
    }
   ],
   "source": [
    "import torch\n",
    "from torch.utils.data import TensorDataset, DataLoader\n",
    "torch.__version__"
   ]
  },
  {
   "cell_type": "code",
   "execution_count": 49,
   "id": "d8a6cb04-7d5a-435b-9efc-69adcb9b5096",
   "metadata": {},
   "outputs": [],
   "source": [
    "from torchvision import datasets\n",
    "from torchvision import utils\n",
    "from torchvision import transforms"
   ]
  },
  {
   "cell_type": "code",
   "execution_count": 50,
   "id": "1a9b8de7-e593-4a27-86b8-27068050f482",
   "metadata": {},
   "outputs": [],
   "source": [
    "import numpy as np\n",
    "import matplotlib.pyplot as plt\n",
    "%matplotlib inline"
   ]
  },
  {
   "cell_type": "code",
   "execution_count": 13,
   "id": "2c6fbfe2-302e-45f1-a4ac-a68a4b748e0a",
   "metadata": {},
   "outputs": [],
   "source": [
    "DEVICE = 'mps'"
   ]
  },
  {
   "cell_type": "markdown",
   "id": "ee847a52-214c-4283-a831-167ea5e75daa",
   "metadata": {},
   "source": [
    "# Working with pyTorch Tensors"
   ]
  },
  {
   "cell_type": "markdown",
   "id": "6de480d9-2fa1-4c7d-b68f-f9a3bcdbd16f",
   "metadata": {},
   "source": [
    "### Define the tensor datatype"
   ]
  },
  {
   "cell_type": "code",
   "execution_count": 3,
   "id": "b70aec41-c3c7-428a-b7dd-3563edfa37cb",
   "metadata": {},
   "outputs": [
    {
     "data": {
      "text/plain": [
       "tensor([[1., 1.],\n",
       "        [1., 1.]])"
      ]
     },
     "execution_count": 3,
     "metadata": {},
     "output_type": "execute_result"
    }
   ],
   "source": [
    "x = torch.ones(2, 2)\n",
    "x"
   ]
  },
  {
   "cell_type": "code",
   "execution_count": 4,
   "id": "602d1f75-9afd-4885-af1a-5bd848e94e47",
   "metadata": {},
   "outputs": [
    {
     "data": {
      "text/plain": [
       "torch.float32"
      ]
     },
     "execution_count": 4,
     "metadata": {},
     "output_type": "execute_result"
    }
   ],
   "source": [
    "x.dtype"
   ]
  },
  {
   "cell_type": "code",
   "execution_count": 5,
   "id": "0808acf0-86f5-4081-aaee-cfd245347e75",
   "metadata": {},
   "outputs": [
    {
     "data": {
      "text/plain": [
       "tensor([[1, 1],\n",
       "        [1, 1]], dtype=torch.uint8)"
      ]
     },
     "execution_count": 5,
     "metadata": {},
     "output_type": "execute_result"
    }
   ],
   "source": [
    "x = torch.ones(2, 2, dtype=torch.uint8)\n",
    "x"
   ]
  },
  {
   "cell_type": "markdown",
   "id": "c296f11c-5c21-40d7-9941-d903816e3d6c",
   "metadata": {},
   "source": [
    "### Changing tensor datatype"
   ]
  },
  {
   "cell_type": "code",
   "execution_count": 6,
   "id": "e2dc22a8-fa02-4adc-a8ca-e49571176162",
   "metadata": {},
   "outputs": [
    {
     "data": {
      "text/plain": [
       "torch.float32"
      ]
     },
     "execution_count": 6,
     "metadata": {},
     "output_type": "execute_result"
    }
   ],
   "source": [
    "x = torch.ones(2, 2, dtype=torch.uint8)\n",
    "x = x.type(torch.float)\n",
    "x.dtype"
   ]
  },
  {
   "cell_type": "markdown",
   "id": "69b4e068-069e-4c0e-af71-0f8afc40eba6",
   "metadata": {},
   "source": [
    "### Converting to numpy"
   ]
  },
  {
   "cell_type": "code",
   "execution_count": 8,
   "id": "38341ac0-97de-423e-b3ae-4beb54c93721",
   "metadata": {},
   "outputs": [
    {
     "data": {
      "text/plain": [
       "array([[0., 0., 0.],\n",
       "       [0., 0., 0.],\n",
       "       [0., 0., 0.]], dtype=float32)"
      ]
     },
     "execution_count": 8,
     "metadata": {},
     "output_type": "execute_result"
    }
   ],
   "source": [
    "x = torch.zeros(3, 3)\n",
    "y = x.numpy()\n",
    "y"
   ]
  },
  {
   "cell_type": "markdown",
   "id": "41de20f1-cf64-4838-9963-6de79e0205de",
   "metadata": {},
   "source": [
    "### Converting from numpy"
   ]
  },
  {
   "cell_type": "code",
   "execution_count": 12,
   "id": "8575608a-5d0e-438c-9f59-e15acbd239fc",
   "metadata": {},
   "outputs": [
    {
     "data": {
      "text/plain": [
       "tensor([[1., 1.],\n",
       "        [1., 1.]], dtype=torch.float64)"
      ]
     },
     "execution_count": 12,
     "metadata": {},
     "output_type": "execute_result"
    }
   ],
   "source": [
    "x = np.ones([2, 2])\n",
    "x = torch.from_numpy(x)\n",
    "x"
   ]
  },
  {
   "cell_type": "markdown",
   "id": "f915085d-bb56-413d-af8f-9a873eae13d7",
   "metadata": {},
   "source": [
    "### Storing tensors on device"
   ]
  },
  {
   "cell_type": "code",
   "execution_count": 16,
   "id": "2aa2f697-1101-4d48-8ff0-e6acab51283d",
   "metadata": {},
   "outputs": [
    {
     "data": {
      "text/plain": [
       "tensor([[1, 2],\n",
       "        [3, 4]], device='mps:0')"
      ]
     },
     "execution_count": 16,
     "metadata": {},
     "output_type": "execute_result"
    }
   ],
   "source": [
    "x = torch.tensor([[1, 2], [3, 4]])\n",
    "x = x.to(DEVICE)\n",
    "x"
   ]
  },
  {
   "cell_type": "code",
   "execution_count": 17,
   "id": "c7d5501c-41d4-4e8c-a795-56b67e955137",
   "metadata": {},
   "outputs": [
    {
     "data": {
      "text/plain": [
       "tensor([[1, 2],\n",
       "        [3, 4]], device='mps:0')"
      ]
     },
     "execution_count": 17,
     "metadata": {},
     "output_type": "execute_result"
    }
   ],
   "source": [
    "x = torch.tensor([[1, 2], [3, 4]], device=DEVICE)\n",
    "x"
   ]
  },
  {
   "cell_type": "markdown",
   "id": "f7975920-6088-4417-bcfc-f9a361a919f1",
   "metadata": {},
   "source": [
    "# Loading and processing the data"
   ]
  },
  {
   "cell_type": "markdown",
   "id": "977b892f-62ef-440c-8ce3-022360d08fcc",
   "metadata": {},
   "source": [
    "### Loading a dataset"
   ]
  },
  {
   "cell_type": "code",
   "execution_count": 24,
   "id": "dca1b20e-f01b-4f2d-85e8-aece072cb765",
   "metadata": {},
   "outputs": [
    {
     "data": {
      "text/plain": [
       "Dataset FashionMNIST\n",
       "    Number of datapoints: 60000\n",
       "    Root location: ../torch_in_a_day/data\n",
       "    Split: Train"
      ]
     },
     "execution_count": 24,
     "metadata": {},
     "output_type": "execute_result"
    }
   ],
   "source": [
    "path2data = 'data'\n",
    "path2data = '../torch_in_a_day/data'\n",
    "train_data = datasets.FashionMNIST(root=path2data, train=True, download=False)\n",
    "train_data"
   ]
  },
  {
   "cell_type": "code",
   "execution_count": 33,
   "id": "0a2950d5-f55b-44d6-aa69-10b7227dfbe5",
   "metadata": {},
   "outputs": [
    {
     "data": {
      "text/plain": [
       "(torch.Size([60000, 28, 28]), torch.Size([60000]))"
      ]
     },
     "execution_count": 33,
     "metadata": {},
     "output_type": "execute_result"
    }
   ],
   "source": [
    "X_train, y_train = train_data.data, train_data.targets\n",
    "X_train.shape, y_train.shape"
   ]
  },
  {
   "cell_type": "code",
   "execution_count": 34,
   "id": "d7798938-390b-46f5-9bc2-fa5bfd8b48a8",
   "metadata": {},
   "outputs": [
    {
     "data": {
      "text/plain": [
       "Dataset FashionMNIST\n",
       "    Number of datapoints: 10000\n",
       "    Root location: ../torch_in_a_day/data\n",
       "    Split: Test"
      ]
     },
     "execution_count": 34,
     "metadata": {},
     "output_type": "execute_result"
    }
   ],
   "source": [
    "test_data = datasets.FashionMNIST(root=path2data, train=False, download=False)\n",
    "test_data"
   ]
  },
  {
   "cell_type": "code",
   "execution_count": 35,
   "id": "bfc2ee55-82bd-4e25-8507-34f9732a377c",
   "metadata": {},
   "outputs": [
    {
     "data": {
      "text/plain": [
       "(torch.Size([10000, 28, 28]), torch.Size([10000]))"
      ]
     },
     "execution_count": 35,
     "metadata": {},
     "output_type": "execute_result"
    }
   ],
   "source": [
    "X_test, y_test = test_data.data, test_data.targets\n",
    "X_test.shape, y_test.shape"
   ]
  },
  {
   "cell_type": "code",
   "execution_count": 37,
   "id": "4a325fd8-a389-47b0-b812-e263ce71204f",
   "metadata": {},
   "outputs": [
    {
     "data": {
      "text/plain": [
       "(torch.Size([60000, 1, 28, 28]), torch.Size([10000, 1, 28, 28]))"
      ]
     },
     "execution_count": 37,
     "metadata": {},
     "output_type": "execute_result"
    }
   ],
   "source": [
    "# Add new dimension (channel) to the tensor\n",
    "if len(X_train.shape) == 3:\n",
    "    X_train, X_test = X_train.unsqueeze(1), X_test.unsqueeze(1)\n",
    "X_train.shape, X_test.shape"
   ]
  },
  {
   "cell_type": "code",
   "execution_count": 45,
   "id": "7785c92c-d0c1-4676-97b1-6a22dfbb9dc4",
   "metadata": {},
   "outputs": [],
   "source": [
    "# handy function to show tensors as images\n",
    "def imshow(tensor):\n",
    "    img = tensor.numpy()\n",
    "    img = np.transpose(img, (1, 2, 0))\n",
    "    plt.imshow(img, interpolation='nearest')"
   ]
  },
  {
   "cell_type": "code",
   "execution_count": 48,
   "id": "41ff49bb-195b-4b1c-9fb6-9cf8aa69e664",
   "metadata": {},
   "outputs": [
    {
     "data": {
      "image/png": "[encoded data removed]",
      "text/plain": [
       "<Figure size 640x480 with 1 Axes>"
      ]
     },
     "metadata": {},
     "output_type": "display_data"
    }
   ],
   "source": [
    "# make a grid o f 40 pictures with padding of 2\n",
    "X_train_40 = utils.make_grid(tensor=X_train[:40], nrow=8, padding=2)\n",
    "imshow(X_train_40)"
   ]
  },
  {
   "cell_type": "markdown",
   "id": "c26f516f-daa2-4e2a-ad8e-ee53cc98b17e",
   "metadata": {},
   "source": [
    "### Data transformation"
   ]
  },
  {
   "cell_type": "code",
   "execution_count": 63,
   "id": "b27ad284-9e21-4b47-aa96-34c64ef8202d",
   "metadata": {},
   "outputs": [],
   "source": [
    "# define transformations\n",
    "img_flip = transforms.Compose([\n",
    "    transforms.RandomHorizontalFlip(p=1),\n",
    "    transforms.RandomVerticalFlip(p=1),\n",
    "    transforms.ToTensor()\n",
    "])"
   ]
  },
  {
   "cell_type": "code",
   "execution_count": 77,
   "id": "6a7cbcc6-13ab-4832-95b7-dd12deac2156",
   "metadata": {},
   "outputs": [
    {
     "data": {
      "text/plain": [
       "Text(0.5, 1.0, 'flipped')"
      ]
     },
     "execution_count": 77,
     "metadata": {},
     "output_type": "execute_result"
    },
    {
     "data": {
      "image/png": "[encoded data removed]",
      "text/plain": [
       "<Figure size 640x480 with 2 Axes>"
      ]
     },
     "metadata": {},
     "output_type": "display_data"
    }
   ],
   "source": [
    "# example of transformation\n",
    "img_example = train_data[6][0]\n",
    "img_example_flipped = img_flip(img_example).numpy()\n",
    "\n",
    "plt.subplot(1, 2, 1)\n",
    "plt.imshow(img_example)\n",
    "plt.title('original')\n",
    "plt.subplot(1, 2, 2)\n",
    "plt.imshow(img_example_flipped[0])\n",
    "plt.title('flipped')"
   ]
  },
  {
   "cell_type": "markdown",
   "id": "8b930267-dafb-498a-94f4-287e085eefa2",
   "metadata": {},
   "source": [
    "### Wrapping Tensors into Dataset"
   ]
  },
  {
   "cell_type": "code",
   "execution_count": 80,
   "id": "aaa4071b-4eb1-42c9-9807-80410451e5dd",
   "metadata": {},
   "outputs": [],
   "source": [
    "train_dataset = TensorDataset(X_train, y_train)\n",
    "test_dataset = TensorDataset(X_test, y_test)"
   ]
  },
  {
   "cell_type": "code",
   "execution_count": 82,
   "id": "1fb34658-ffba-472d-8b12-54daae190c9f",
   "metadata": {},
   "outputs": [
    {
     "name": "stdout",
     "output_type": "stream",
     "text": [
      "torch.Size([1, 28, 28]) label: 9\n"
     ]
    }
   ],
   "source": [
    "for X, y in train_dataset:\n",
    "    print(X.shape, f'label: {y.item()}')\n",
    "    break"
   ]
  },
  {
   "cell_type": "markdown",
   "id": "3248fffc-de7b-4a1c-8b27-3e2c113058b1",
   "metadata": {},
   "source": [
    "### Creating data loaders"
   ]
  },
  {
   "cell_type": "code",
   "execution_count": 84,
   "id": "fa3f9562-3247-4aec-8074-343d704ccef9",
   "metadata": {},
   "outputs": [
    {
     "name": "stdout",
     "output_type": "stream",
     "text": [
      "torch.Size([8, 1, 28, 28]) torch.Size([8])\n"
     ]
    }
   ],
   "source": [
    "train_dl = DataLoader(train_dataset, batch_size=8)\n",
    "test_dl = DataLoader(test_data, batch_size=8)\n",
    "\n",
    "for xb, yb in train_dl:\n",
    "    print(xb.shape, yb.shape)\n",
    "    break"
   ]
  },
  {
   "cell_type": "code",
   "execution_count": null,
   "id": "5b42302e-5e5d-48c6-83ec-539b89fbe0e2",
   "metadata": {},
   "outputs": [],
   "source": []
  }
 ],
 "metadata": {
  "kernelspec": {
   "display_name": "Python 3.11.0 64-bit",
   "language": "python",
   "name": "python3"
  },
  "language_info": {
   "codemirror_mode": {
    "name": "ipython",
    "version": 3
   },
   "file_extension": ".py",
   "mimetype": "text/x-python",
   "name": "python",
   "nbconvert_exporter": "python",
   "pygments_lexer": "ipython3",
   "version": "3.11.0"
  },
  "vscode": {
   "interpreter": {
    "hash": "aee8b7b246df8f9039afb4144a1f6fd8d2ca17a180786b69acc140d282b71a49"
   }
  }
 },
 "nbformat": 4,
 "nbformat_minor": 5
}
