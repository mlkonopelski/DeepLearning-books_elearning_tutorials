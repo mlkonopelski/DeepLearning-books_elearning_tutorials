{
 "cells": [
  {
   "cell_type": "code",
   "execution_count": null,
   "id": "9b238d52-4c95-4556-bdf4-21feda420add",
   "metadata": {},
   "outputs": [],
   "source": []
  },
  {
   "cell_type": "code",
   "execution_count": 1,
   "id": "8bb2cf76-0767-463f-abb8-a6d6f4c61ad3",
   "metadata": {},
   "outputs": [
    {
     "data": {
      "text/plain": [
       "<torch._C.Generator at 0x10f30d650>"
      ]
     },
     "execution_count": 1,
     "metadata": {},
     "output_type": "execute_result"
    }
   ],
   "source": [
    "import torch\n",
    "import yaml \n",
    "from model import BigramLanguageModel\n",
    "import torch.nn as nn\n",
    "\n",
    "torch.manual_seed(1337)"
   ]
  },
  {
   "cell_type": "code",
   "execution_count": 2,
   "id": "a621ab51-1d32-42a3-a249-ccc81f7309ba",
   "metadata": {},
   "outputs": [
    {
     "name": "stdout",
     "output_type": "stream",
     "text": [
      "First Citizen:\n",
      "Before we proceed any further, hear me speak.\n",
      "\n",
      "All:\n",
      "Speak, speak.\n",
      "\n",
      "First Citizen:\n",
      "You are all resolved rather to die than to famish?\n",
      "\n",
      "All:\n",
      "Resolved. resolved.\n",
      "\n",
      "First Citizen:\n",
      "First, you know Caius Marcius is chief enemy to the people.\n",
      "\n",
      "All:\n",
      "We know't, we know't.\n",
      "\n",
      "First Citizen:\n",
      "Let us kill him, and we'll have corn at our own price.\n",
      "Is't a verdict?\n",
      "\n",
      "All:\n",
      "No more talking on't; let it be done: away, away!\n",
      "\n",
      "Second Citizen:\n",
      "One word, good citizens.\n",
      "\n",
      "First Citizen:\n",
      "We are accounted poor citizens, the patricians good.\n",
      "What authority surfeits on would relieve us: if they\n",
      "would yield us but the superfluity, while it were\n",
      "wholesome, we might guess they relieved us humanely;\n",
      "but they think we are too dear: the leanness that\n",
      "afflicts us, the object of our misery, is as an\n",
      "inventory to particularise their abundance; our\n",
      "sufferance is a gain to them Let us revenge this with\n",
      "our pikes, ere we become rakes: for the gods know I\n",
      "speak this in hunger for bread, not in thirst for revenge.\n",
      "\n",
      "\n"
     ]
    }
   ],
   "source": [
    "with open(\"config.yml\", \"r\") as f:\n",
    "    config = yaml.safe_load(f)\n",
    "\n",
    "with open('.data/tinyshakespear.txt', 'r') as f:\n",
    "    text = f.read()\n",
    "    \n",
    "print(text[:1000])"
   ]
  },
  {
   "cell_type": "code",
   "execution_count": 3,
   "id": "863ac21a-04ea-4f40-90f4-4f40aedc1212",
   "metadata": {},
   "outputs": [
    {
     "name": "stdout",
     "output_type": "stream",
     "text": [
      "\n",
      " !$&',-.3:;?ABCDEFGHIJKLMNOPQRSTUVWXYZabcdefghijklmnopqrstuvwxyz\n",
      "[46, 47, 47, 1, 58, 46, 43, 56, 43, 8]\n",
      "hii there.\n"
     ]
    }
   ],
   "source": [
    "# all unique characters that appear in the text \n",
    "chars = sorted(list(set(text)))\n",
    "print(''.join(chars))\n",
    "\n",
    " # create mapping from characters to integers\n",
    "stoi = {ch: i for i, ch in enumerate(chars)}\n",
    "itos = {i: ch for i, ch in enumerate(chars)}\n",
    "encode = lambda s: [stoi[c] for c in s]\n",
    "decode = lambda l: ''.join([itos[i] for i in l])\n",
    "\n",
    "print(encode('hii there.'))\n",
    "print(decode(encode('hii there.')))"
   ]
  },
  {
   "cell_type": "code",
   "execution_count": 4,
   "id": "4e6fe7a2-c536-47bb-9838-92a5e19532a3",
   "metadata": {
    "tags": []
   },
   "outputs": [
    {
     "name": "stdout",
     "output_type": "stream",
     "text": [
      "tensor([18, 47, 56, 57, 58,  1, 15, 47, 58, 47, 64, 43, 52, 10,  0, 14, 43, 44,\n",
      "        53, 56, 43,  1, 61, 43,  1, 54, 56, 53, 41, 43, 43, 42,  1, 39, 52, 63,\n",
      "         1, 44, 59, 56, 58, 46, 43, 56,  6,  1, 46, 43, 39, 56,  1, 51, 43,  1,\n",
      "        57, 54, 43, 39, 49,  8,  0,  0, 13, 50, 50, 10,  0, 31, 54, 43, 39, 49,\n",
      "         6,  1, 57, 54, 43, 39, 49,  8,  0,  0, 18, 47, 56, 57, 58,  1, 15, 47,\n",
      "        58, 47, 64, 43, 52, 10,  0, 37, 53, 59,  1, 39, 56, 43,  1, 39, 50, 50,\n",
      "         1, 56, 43, 57, 53, 50, 60, 43, 42,  1, 56, 39, 58, 46, 43, 56,  1, 58,\n",
      "        53,  1, 42, 47, 43,  1, 58, 46, 39, 52,  1, 58, 53,  1, 44, 39, 51, 47,\n",
      "        57, 46, 12,  0,  0, 13, 50, 50, 10,  0, 30, 43, 57, 53, 50, 60, 43, 42,\n",
      "         8,  1, 56, 43, 57, 53, 50, 60, 43, 42,  8,  0,  0, 18, 47, 56, 57, 58,\n",
      "         1, 15, 47, 58, 47, 64, 43, 52, 10,  0, 18, 47, 56, 57, 58,  6,  1, 63,\n",
      "        53, 59,  1, 49, 52, 53, 61,  1, 15, 39, 47, 59, 57,  1, 25, 39, 56, 41,\n",
      "        47, 59, 57,  1, 47, 57,  1, 41, 46, 47, 43, 44,  1, 43, 52, 43, 51, 63,\n",
      "         1, 58, 53,  1, 58, 46, 43,  1, 54, 43, 53, 54, 50, 43,  8,  0,  0, 13,\n",
      "        50, 50, 10,  0, 35, 43,  1, 49, 52, 53, 61,  5, 58,  6,  1, 61, 43,  1,\n",
      "        49, 52, 53, 61,  5, 58,  8,  0,  0, 18, 47, 56, 57, 58,  1, 15, 47, 58,\n",
      "        47, 64, 43, 52, 10,  0, 24, 43, 58,  1, 59, 57,  1, 49, 47, 50, 50,  1,\n",
      "        46, 47, 51,  6,  1, 39, 52, 42,  1, 61, 43,  5, 50, 50,  1, 46, 39, 60,\n",
      "        43,  1, 41, 53, 56, 52,  1, 39, 58,  1, 53, 59, 56,  1, 53, 61, 52,  1,\n",
      "        54, 56, 47, 41, 43,  8,  0, 21, 57,  5, 58,  1, 39,  1, 60, 43, 56, 42,\n",
      "        47, 41, 58, 12,  0,  0, 13, 50, 50, 10,  0, 26, 53,  1, 51, 53, 56, 43,\n",
      "         1, 58, 39, 50, 49, 47, 52, 45,  1, 53, 52,  5, 58, 11,  1, 50, 43, 58,\n",
      "         1, 47, 58,  1, 40, 43,  1, 42, 53, 52, 43, 10,  1, 39, 61, 39, 63,  6,\n",
      "         1, 39, 61, 39, 63,  2,  0,  0, 31, 43, 41, 53, 52, 42,  1, 15, 47, 58,\n",
      "        47, 64, 43, 52, 10,  0, 27, 52, 43,  1, 61, 53, 56, 42,  6,  1, 45, 53,\n",
      "        53, 42,  1, 41, 47, 58, 47, 64, 43, 52, 57,  8,  0,  0, 18, 47, 56, 57,\n",
      "        58,  1, 15, 47, 58, 47, 64, 43, 52, 10,  0, 35, 43,  1, 39, 56, 43,  1,\n",
      "        39, 41, 41, 53, 59, 52, 58, 43, 42,  1, 54, 53, 53, 56,  1, 41, 47, 58,\n",
      "        47, 64, 43, 52, 57,  6,  1, 58, 46, 43,  1, 54, 39, 58, 56, 47, 41, 47,\n",
      "        39, 52, 57,  1, 45, 53, 53, 42,  8,  0, 35, 46, 39, 58,  1, 39, 59, 58,\n",
      "        46, 53, 56, 47, 58, 63,  1, 57, 59, 56, 44, 43, 47, 58, 57,  1, 53, 52,\n",
      "         1, 61, 53, 59, 50, 42,  1, 56, 43, 50, 47, 43, 60, 43,  1, 59, 57, 10,\n",
      "         1, 47, 44,  1, 58, 46, 43, 63,  0, 61, 53, 59, 50, 42,  1, 63, 47, 43,\n",
      "        50, 42,  1, 59, 57,  1, 40, 59, 58,  1, 58, 46, 43,  1, 57, 59, 54, 43,\n",
      "        56, 44, 50, 59, 47, 58, 63,  6,  1, 61, 46, 47, 50, 43,  1, 47, 58,  1,\n",
      "        61, 43, 56, 43,  0, 61, 46, 53, 50, 43, 57, 53, 51, 43,  6,  1, 61, 43,\n",
      "         1, 51, 47, 45, 46, 58,  1, 45, 59, 43, 57, 57,  1, 58, 46, 43, 63,  1,\n",
      "        56, 43, 50, 47, 43, 60, 43, 42,  1, 59, 57,  1, 46, 59, 51, 39, 52, 43,\n",
      "        50, 63, 11,  0, 40, 59, 58,  1, 58, 46, 43, 63,  1, 58, 46, 47, 52, 49,\n",
      "         1, 61, 43,  1, 39, 56, 43,  1, 58, 53, 53,  1, 42, 43, 39, 56, 10,  1,\n",
      "        58, 46, 43,  1, 50, 43, 39, 52, 52, 43, 57, 57,  1, 58, 46, 39, 58,  0,\n",
      "        39, 44, 44, 50, 47, 41, 58, 57,  1, 59, 57,  6,  1, 58, 46, 43,  1, 53,\n",
      "        40, 48, 43, 41, 58,  1, 53, 44,  1, 53, 59, 56,  1, 51, 47, 57, 43, 56,\n",
      "        63,  6,  1, 47, 57,  1, 39, 57,  1, 39, 52,  0, 47, 52, 60, 43, 52, 58,\n",
      "        53, 56, 63,  1, 58, 53,  1, 54, 39, 56, 58, 47, 41, 59, 50, 39, 56, 47,\n",
      "        57, 43,  1, 58, 46, 43, 47, 56,  1, 39, 40, 59, 52, 42, 39, 52, 41, 43,\n",
      "        11,  1, 53, 59, 56,  0, 57, 59, 44, 44, 43, 56, 39, 52, 41, 43,  1, 47,\n",
      "        57,  1, 39,  1, 45, 39, 47, 52,  1, 58, 53,  1, 58, 46, 43, 51,  1, 24,\n",
      "        43, 58,  1, 59, 57,  1, 56, 43, 60, 43, 52, 45, 43,  1, 58, 46, 47, 57,\n",
      "         1, 61, 47, 58, 46,  0, 53, 59, 56,  1, 54, 47, 49, 43, 57,  6,  1, 43,\n",
      "        56, 43,  1, 61, 43,  1, 40, 43, 41, 53, 51, 43,  1, 56, 39, 49, 43, 57,\n",
      "        10,  1, 44, 53, 56,  1, 58, 46, 43,  1, 45, 53, 42, 57,  1, 49, 52, 53,\n",
      "        61,  1, 21,  0, 57, 54, 43, 39, 49,  1, 58, 46, 47, 57,  1, 47, 52,  1,\n",
      "        46, 59, 52, 45, 43, 56,  1, 44, 53, 56,  1, 40, 56, 43, 39, 42,  6,  1,\n",
      "        52, 53, 58,  1, 47, 52,  1, 58, 46, 47, 56, 57, 58,  1, 44, 53, 56,  1,\n",
      "        56, 43, 60, 43, 52, 45, 43,  8,  0,  0])\n"
     ]
    }
   ],
   "source": [
    "data = torch.tensor(encode(text))\n",
    "data = data.to(config['device'])\n",
    "\n",
    "print(data[:1000])"
   ]
  },
  {
   "cell_type": "code",
   "execution_count": 5,
   "id": "f116620b-3bc1-4fd5-839a-accada6bc1a2",
   "metadata": {},
   "outputs": [],
   "source": [
    "# TRAIN TEST SPLIT\n",
    "n = int(0.9 * len(data))\n",
    "train_data = data[:n]\n",
    "val_data = data[n:]\n",
    "\n",
    "block_size = 8\n",
    "train_data[:block_size+1]\n",
    "\n",
    "batch_size = 4"
   ]
  },
  {
   "cell_type": "code",
   "execution_count": 6,
   "id": "b730fd5e-d1ee-43bd-a5d1-b2951b1a7b28",
   "metadata": {},
   "outputs": [
    {
     "name": "stdout",
     "output_type": "stream",
     "text": [
      "torch.Size([4, 8]) torch.Size([4, 8])\n"
     ]
    }
   ],
   "source": [
    "def get_batch(split):\n",
    "    data = train_data if split == 'train' else val_data\n",
    "    ix = torch.randint(len(data) - block_size, (batch_size, ))\n",
    "    x = torch.stack([data[i:i+block_size] for i in ix])\n",
    "    y = torch.stack([data[i+1: i+block_size+1] for i in ix])\n",
    "    return x,y\n",
    "\n",
    "xb ,yb = get_batch('train')\n",
    "print(xb.shape, yb.shape)\n",
    "assert xb.shape == (batch_size, block_size)"
   ]
  },
  {
   "cell_type": "code",
   "execution_count": 7,
   "id": "a451281e-be0d-4517-a21a-bb7793f82917",
   "metadata": {},
   "outputs": [
    {
     "name": "stdout",
     "output_type": "stream",
     "text": [
      "65\n"
     ]
    }
   ],
   "source": [
    "vocab_size = len(chars)\n",
    "print(vocab_size)\n",
    "\n",
    "model = BigramLanguageModel(vocab_size, 32, 8, 'cpu') # the init now have more arguments\n",
    "model = model.to(config['device'])\n",
    "logits, loss = model(xb, yb)"
   ]
  },
  {
   "cell_type": "code",
   "execution_count": 12,
   "id": "57e70f70-bbcc-4966-95ca-e3371918c549",
   "metadata": {},
   "outputs": [
    {
     "name": "stdout",
     "output_type": "stream",
     "text": [
      "\n",
      "SDgyGFRX\n"
     ]
    }
   ],
   "source": [
    "# Example how generator works\n",
    "def validate_model():\n",
    "    print(\n",
    "        decode(\n",
    "            model.generate(\n",
    "                idx=torch.zeros((1, 1), dtype=torch.long).to(config['device']),\n",
    "                max_new_tokens=8\n",
    "            )[0].tolist()\n",
    "        )\n",
    "    )\n",
    "\n",
    "validate_model()"
   ]
  },
  {
   "cell_type": "code",
   "execution_count": 13,
   "id": "ab129818-21e3-4ff5-9ab7-82a8e06f744a",
   "metadata": {},
   "outputs": [],
   "source": [
    "batch_size = 32"
   ]
  },
  {
   "cell_type": "code",
   "execution_count": 14,
   "id": "1e3d332c-dece-4fee-a40b-9e62d0993358",
   "metadata": {},
   "outputs": [],
   "source": [
    "optimizer = torch.optim.AdamW(model.parameters(), lr=0.0001)"
   ]
  },
  {
   "cell_type": "code",
   "execution_count": 15,
   "id": "238b3c66-ed41-4918-9787-1e14c6817c83",
   "metadata": {},
   "outputs": [
    {
     "data": {
      "text/plain": [
       "tensor([24, 43, 58,  5, 57,  1, 46, 43])"
      ]
     },
     "execution_count": 15,
     "metadata": {},
     "output_type": "execute_result"
    }
   ],
   "source": [
    "xb[0]"
   ]
  },
  {
   "cell_type": "code",
   "execution_count": 16,
   "id": "76638447-2480-4de4-8703-e23e35a1ff18",
   "metadata": {},
   "outputs": [
    {
     "name": "stdout",
     "output_type": "stream",
     "text": [
      "2.489912986755371\n"
     ]
    }
   ],
   "source": [
    "for steps in range(10000):\n",
    "    xb, xy = get_batch('train')\n",
    "    logits, loss = model(xb, xy)\n",
    "    optimizer.zero_grad(set_to_none=True)\n",
    "    loss.backward()\n",
    "    optimizer.step()\n",
    "    \n",
    "print(loss.item())"
   ]
  },
  {
   "cell_type": "code",
   "execution_count": 17,
   "id": "20e01bdc-77a0-4d38-b951-6260d3030fa4",
   "metadata": {},
   "outputs": [
    {
     "name": "stdout",
     "output_type": "stream",
     "text": [
      "\n",
      "\n",
      "Yg d RI\n"
     ]
    }
   ],
   "source": [
    "validate_model()"
   ]
  },
  {
   "cell_type": "markdown",
   "id": "df230c7e-b947-476a-98ce-40b273cf6762",
   "metadata": {},
   "source": [
    "## Initial self attention"
   ]
  },
  {
   "cell_type": "markdown",
   "id": "8d34fe5a-0104-4f35-a717-fdc7a2f1a2c8",
   "metadata": {},
   "source": [
    "### toy exmple"
   ]
  },
  {
   "cell_type": "code",
   "execution_count": 18,
   "id": "fde27566-ab62-43e1-8c08-64efa58b9d1c",
   "metadata": {},
   "outputs": [
    {
     "data": {
      "text/plain": [
       "torch.Size([4, 8, 2])"
      ]
     },
     "execution_count": 18,
     "metadata": {},
     "output_type": "execute_result"
    }
   ],
   "source": [
    "torch.manual_seed(1337)\n",
    "B, T, C = 4, 8, 2\n",
    "x = torch.randn(B, T, C)\n",
    "x.shape"
   ]
  },
  {
   "cell_type": "code",
   "execution_count": 19,
   "id": "17e5a87b-f034-47b7-bb27-a093d6495ed7",
   "metadata": {},
   "outputs": [],
   "source": [
    "# manual way\n",
    "xbow = torch.zeros(B, T, C)\n",
    "for b in range(B):\n",
    "    for t in range(T):\n",
    "        xprev = x[b, :t+1]\n",
    "        xbow[b, t] = torch.mean(xprev, 0)"
   ]
  },
  {
   "cell_type": "code",
   "execution_count": 20,
   "id": "f42d9527-d050-4bef-ac18-c6b9b6645b3e",
   "metadata": {},
   "outputs": [
    {
     "data": {
      "text/plain": [
       "(tensor([[ 0.1808, -0.0700],\n",
       "         [-0.3596, -0.9152],\n",
       "         [ 0.6258,  0.0255],\n",
       "         [ 0.9545,  0.0643],\n",
       "         [ 0.3612,  1.1679],\n",
       "         [-1.3499, -0.5102],\n",
       "         [ 0.2360, -0.2398],\n",
       "         [-0.9211,  1.5433]]),\n",
       " tensor([[ 0.1808, -0.0700],\n",
       "         [-0.0894, -0.4926],\n",
       "         [ 0.1490, -0.3199],\n",
       "         [ 0.3504, -0.2238],\n",
       "         [ 0.3525,  0.0545],\n",
       "         [ 0.0688, -0.0396],\n",
       "         [ 0.0927, -0.0682],\n",
       "         [-0.0341,  0.1332]]))"
      ]
     },
     "execution_count": 20,
     "metadata": {},
     "output_type": "execute_result"
    }
   ],
   "source": [
    "x[0], xbow[0]"
   ]
  },
  {
   "cell_type": "code",
   "execution_count": 38,
   "id": "0297b70d-496e-4a50-aea1-f8e3ef24a516",
   "metadata": {},
   "outputs": [
    {
     "data": {
      "text/plain": [
       "tensor([[1., 0., 0., 0., 0., 0., 0., 0.],\n",
       "        [1., 1., 0., 0., 0., 0., 0., 0.],\n",
       "        [1., 1., 1., 0., 0., 0., 0., 0.],\n",
       "        [1., 1., 1., 1., 0., 0., 0., 0.],\n",
       "        [1., 1., 1., 1., 1., 0., 0., 0.],\n",
       "        [1., 1., 1., 1., 1., 1., 0., 0.],\n",
       "        [1., 1., 1., 1., 1., 1., 1., 0.],\n",
       "        [1., 1., 1., 1., 1., 1., 1., 1.]])"
      ]
     },
     "execution_count": 38,
     "metadata": {},
     "output_type": "execute_result"
    }
   ],
   "source": [
    "# array way\n",
    "tril = torch.tril(torch.ones(T, T))\n",
    "wei = torch.zeros(T, T)\n",
    "\n",
    "wei = torch.tril(torch.ones(T, T))\n",
    "wei = wei / wei.sum(dim=1, keepdim=True)\n",
    "\n",
    "wei"
   ]
  },
  {
   "cell_type": "code",
   "execution_count": 22,
   "id": "9b52091c-4c0b-4717-b4b3-77ee25e4b88e",
   "metadata": {},
   "outputs": [
    {
     "data": {
      "text/plain": [
       "(tensor([[ 0.1808, -0.0700],\n",
       "         [-0.3596, -0.9152],\n",
       "         [ 0.6258,  0.0255],\n",
       "         [ 0.9545,  0.0643],\n",
       "         [ 0.3612,  1.1679],\n",
       "         [-1.3499, -0.5102],\n",
       "         [ 0.2360, -0.2398],\n",
       "         [-0.9211,  1.5433]]),\n",
       " tensor([[ 0.1808, -0.0700],\n",
       "         [-0.0894, -0.4926],\n",
       "         [ 0.1490, -0.3199],\n",
       "         [ 0.3504, -0.2238],\n",
       "         [ 0.3525,  0.0545],\n",
       "         [ 0.0688, -0.0396],\n",
       "         [ 0.0927, -0.0682],\n",
       "         [-0.0341,  0.1332]]))"
      ]
     },
     "execution_count": 22,
     "metadata": {},
     "output_type": "execute_result"
    }
   ],
   "source": [
    "x[0], xbow2[0]"
   ]
  },
  {
   "cell_type": "code",
   "execution_count": 23,
   "id": "632711fa-6779-4e84-a114-04d6d2eff978",
   "metadata": {},
   "outputs": [],
   "source": [
    "tril = torch.tril(torch.ones(T, T))\n",
    "wei = torch.zeros(T, T)\n",
    "wei = wei.masked_fill(mask=tril == 0, value=float('-inf'))\n",
    "wei = wei.softmax(-1)\n",
    "\n",
    "xbow3 = wei @ x"
   ]
  },
  {
   "cell_type": "code",
   "execution_count": 58,
   "id": "2f70321c-ae34-4c52-92c9-d73d0c63d6ef",
   "metadata": {},
   "outputs": [
    {
     "data": {
      "text/plain": [
       "tensor([0.5877, 0.4123, 0.0000], dtype=torch.float64)"
      ]
     },
     "execution_count": 58,
     "metadata": {},
     "output_type": "execute_result"
    }
   ],
   "source": [
    "import numpy as np\n",
    "nn.functional.softmax(torch.tensor(np.array([-1.3011, -1.6556, float('-inf')]), dtype=float), dim=0)"
   ]
  },
  {
   "cell_type": "code",
   "execution_count": 24,
   "id": "82dbdbbb-dcbc-4269-a383-873a7e7fd2ec",
   "metadata": {},
   "outputs": [
    {
     "data": {
      "text/plain": [
       "True"
      ]
     },
     "execution_count": 24,
     "metadata": {},
     "output_type": "execute_result"
    }
   ],
   "source": [
    "torch.allclose(xbow, xbow2) == torch.allclose(xbow2, xbow3)"
   ]
  },
  {
   "cell_type": "markdown",
   "id": "8993c0ba-316f-48fc-9593-d990915c58a5",
   "metadata": {},
   "source": [
    "### Introduce self-attention"
   ]
  },
  {
   "cell_type": "code",
   "execution_count": 25,
   "id": "ec8331c7-7f78-4022-baa4-99827588d135",
   "metadata": {},
   "outputs": [
    {
     "data": {
      "text/plain": [
       "tensor([[ 0.1808, -0.0700],\n",
       "        [-0.3596, -0.9152],\n",
       "        [ 0.6258,  0.0255],\n",
       "        [ 0.9545,  0.0643],\n",
       "        [ 0.3612,  1.1679],\n",
       "        [-1.3499, -0.5102],\n",
       "        [ 0.2360, -0.2398],\n",
       "        [-0.9211,  1.5433]])"
      ]
     },
     "execution_count": 25,
     "metadata": {},
     "output_type": "execute_result"
    }
   ],
   "source": [
    "x[0]"
   ]
  },
  {
   "cell_type": "code",
   "execution_count": 35,
   "id": "310f48e0-e2b3-4bfa-9cd0-11f8834f6d4a",
   "metadata": {},
   "outputs": [
    {
     "data": {
      "text/plain": [
       "tensor([[0., -inf, -inf, -inf, -inf, -inf, -inf, -inf],\n",
       "        [0., 0., -inf, -inf, -inf, -inf, -inf, -inf],\n",
       "        [0., 0., 0., -inf, -inf, -inf, -inf, -inf],\n",
       "        [0., 0., 0., 0., -inf, -inf, -inf, -inf],\n",
       "        [0., 0., 0., 0., 0., -inf, -inf, -inf],\n",
       "        [0., 0., 0., 0., 0., 0., -inf, -inf],\n",
       "        [0., 0., 0., 0., 0., 0., 0., -inf],\n",
       "        [0., 0., 0., 0., 0., 0., 0., 0.]])"
      ]
     },
     "execution_count": 35,
     "metadata": {},
     "output_type": "execute_result"
    }
   ],
   "source": [
    "torch.manual_seed(1337)\n",
    "B, T, C = 4, 8, 32\n",
    "x = torch.randn(B, T, C)\n",
    "\n",
    "wei = torch.zeros(T, T)\n",
    "tril = torch.tril(torch.ones(T, T))\n",
    "\n",
    "wei = wei.masked_fill(mask=tril == 0, value=float('-inf'))\n",
    "#wei = wei.softmax(-1)\n",
    "\n",
    "wei"
   ]
  },
  {
   "cell_type": "code",
   "execution_count": 56,
   "id": "8a6e25e3-9f04-440c-b7ce-02e3851b6b97",
   "metadata": {},
   "outputs": [],
   "source": [
    "torch.manual_seed(1337)\n",
    "B, T, C = 4, 8, 32\n",
    "x = torch.randn(B, T, C)\n",
    "\n",
    "head_size = 16\n",
    "query = nn.Linear(C, head_size, bias=False)\n",
    "key = nn.Linear(C, head_size, bias=False)\n",
    "value = nn.Linear(C, head_size, bias=False)\n",
    "\n",
    "q = query(x) #(B, T, 16)\n",
    "k = key(x) #(B, T, 16)\n",
    "\n",
    "wei = q @ k.transpose(-2, -1) * head_size ** -0.5   # (B, T, 16) @ (B, 16, T) ----> (B, T). # root-0.5(headsize) makes distibution around <0-1  >\n",
    "\n",
    "tril = torch.tril(torch.ones(T, T))\n",
    "wei = wei.masked_fill(mask=tril == 0, value=float('-inf'))\n",
    "wei = wei.softmax(-1)\n",
    "\n",
    "v = value(x)\n",
    "\n",
    "out = wei @ v"
   ]
  },
  {
   "cell_type": "code",
   "execution_count": 60,
   "id": "0ad488a6-6b4a-40b8-854b-3cdd81543223",
   "metadata": {},
   "outputs": [
    {
     "data": {
      "text/plain": [
       "(torch.Size([4, 8, 32]), torch.Size([4, 8, 16]))"
      ]
     },
     "execution_count": 60,
     "metadata": {},
     "output_type": "execute_result"
    }
   ],
   "source": [
    "x.shape, v.shape"
   ]
  },
  {
   "cell_type": "code",
   "execution_count": 59,
   "id": "953dbac0-351f-4c16-8d77-a4602f07f86d",
   "metadata": {},
   "outputs": [
    {
     "data": {
      "text/plain": [
       "tensor([[[-0.1571,  0.8801,  0.1615, -0.7824, -0.1429,  0.7468,  0.1007,\n",
       "          -0.5239, -0.8873,  0.1907,  0.1762, -0.5943, -0.4812, -0.4860,\n",
       "           0.2862,  0.5710],\n",
       "         [ 0.2507,  0.1815, -0.0388, -0.2458, -0.1356,  0.2369, -0.1588,\n",
       "          -0.3209, -0.4772,  0.4530,  0.4388, -0.3604, -0.0859, -0.0803,\n",
       "           0.1115,  0.9138],\n",
       "         [ 0.3288,  0.0950, -0.1875, -0.0916, -0.0079,  0.0883, -0.0678,\n",
       "          -0.1830, -0.4008,  0.0761,  0.3542, -0.1453, -0.1970, -0.0976,\n",
       "           0.0109,  1.0278],\n",
       "         [ 0.6067, -0.4271, -0.2246,  0.2273, -0.1100, -0.2183, -0.3709,\n",
       "          -0.1340, -0.1130,  0.6494,  0.6441, -0.1387,  0.2489,  0.2713,\n",
       "          -0.0351,  1.2031],\n",
       "         [ 0.2010,  0.8507,  0.6533,  0.2228,  0.3173,  0.8365,  0.6526,\n",
       "           0.3822, -0.6315, -1.2205, -0.4374, -0.2859, -0.9985,  0.1108,\n",
       "          -0.1001,  0.5346],\n",
       "         [ 0.1453,  0.4755,  0.1447, -0.2496, -0.0209,  0.4674,  0.0808,\n",
       "          -0.2074, -0.5866,  0.0157,  0.1711, -0.3741, -0.3699, -0.1248,\n",
       "           0.1164,  0.7404],\n",
       "         [-0.2268,  0.2806, -0.0834,  0.2215,  0.1804,  0.2529, -0.0778,\n",
       "          -0.2663, -0.1468,  0.1037,  0.0856,  0.1898, -0.0721, -0.0397,\n",
       "           0.3974,  0.4161],\n",
       "         [-0.1450,  0.2375, -0.1882,  0.3479,  0.1843,  0.1369, -0.0581,\n",
       "           0.1339, -0.0594, -0.0362,  0.0767,  0.2613,  0.0609, -0.1358,\n",
       "           0.0764,  0.3417]],\n",
       "\n",
       "        [[-1.3254,  1.1236,  0.2293, -0.2997, -0.0076,  0.7936,  0.8958,\n",
       "           0.3965, -0.6661, -0.2184, -1.3539,  0.4124,  0.9601, -1.0805,\n",
       "          -0.3975, -0.4444],\n",
       "         [-0.6782,  0.2166,  0.1325,  0.0337, -0.0622,  0.3393,  0.4923,\n",
       "          -0.0432, -0.3417, -0.0805, -0.0910,  0.5015,  0.2865, -0.6299,\n",
       "          -0.2856, -0.4583],\n",
       "         [-1.0932,  0.5732,  0.3181, -0.1236,  0.0993,  0.4099,  0.5209,\n",
       "           0.2445, -0.1716, -0.0925, -0.4941,  0.4624,  0.7222, -0.5886,\n",
       "          -0.0722, -0.2854],\n",
       "         [-0.2692, -0.3212,  0.1692,  0.2796, -0.0396,  0.1096,  0.2002,\n",
       "          -0.2547, -0.0769,  0.0629,  0.6160,  0.5256, -0.0585, -0.2775,\n",
       "          -0.1455, -0.3959],\n",
       "         [-0.9002,  0.7484,  0.3542, -0.1426, -0.0619,  0.5054,  0.5385,\n",
       "           0.4772, -0.1972, -0.0022, -0.4076,  0.3338,  0.7242, -0.5826,\n",
       "          -0.0953, -0.3755],\n",
       "         [-0.9485,  0.5534,  0.3723, -0.1054,  0.0385,  0.3561,  0.4288,\n",
       "           0.3590, -0.0392, -0.0078, -0.2295,  0.3925,  0.6895, -0.4531,\n",
       "           0.0200, -0.2877],\n",
       "         [-0.1033,  0.1116,  0.2029,  0.0800, -0.3062,  0.1282,  0.1350,\n",
       "           0.1713, -0.0601,  0.2307,  0.6556,  0.1717,  0.1498, -0.3954,\n",
       "          -0.1136, -0.5638],\n",
       "         [ 0.3211,  0.2505,  0.4162, -0.1897, -0.9094, -0.4732, -0.5461,\n",
       "          -0.1402, -0.1977,  0.6464,  0.3451, -1.0749,  0.3546, -0.9315,\n",
       "           0.3150, -0.8036]],\n",
       "\n",
       "        [[ 0.0689,  1.2248, -0.4119, -0.1705, -0.6922, -0.2920,  1.2704,\n",
       "          -0.6860,  0.4380, -0.2637,  0.1153,  1.1676, -0.7214, -1.2308,\n",
       "           0.8382, -0.5599],\n",
       "         [-0.3586,  0.7538, -0.2084, -0.1405, -0.6134, -0.4620,  0.4376,\n",
       "          -0.3932,  0.4539, -0.2012,  0.1770,  0.5319, -0.4305, -0.8630,\n",
       "           0.4466, -0.0545],\n",
       "         [-0.3677,  0.6115, -0.1984, -0.1357, -0.5644, -0.4867,  0.3944,\n",
       "          -0.4084,  0.4726, -0.1723,  0.2934,  0.5107, -0.4501, -0.7446,\n",
       "           0.5277,  0.0154],\n",
       "         [-0.3990,  0.0805, -0.0982, -0.1297, -0.2354, -0.5444, -0.0031,\n",
       "          -0.3215,  0.4504,  0.0281,  0.5181,  0.2817, -0.4165, -0.2112,\n",
       "           0.6204,  0.2792],\n",
       "         [ 0.1649,  0.7081, -0.1468, -0.2100,  0.1909, -0.1943,  0.2485,\n",
       "          -0.1734,  0.0855,  0.2797, -0.3395,  0.5875, -0.4114, -0.3832,\n",
       "           0.3573, -0.3944],\n",
       "         [-0.1367,  0.6251, -0.3663, -0.0236, -0.2402, -0.2556,  0.6569,\n",
       "          -0.2531,  0.3443, -0.0638,  0.0646,  0.8383, -0.4728, -0.6836,\n",
       "           0.5997, -0.4341],\n",
       "         [-0.5889,  0.3277, -0.4244,  0.0367, -0.5843, -0.5685,  0.8307,\n",
       "          -0.1640,  0.2316, -0.1908,  0.4925,  0.9825, -0.5326, -0.9373,\n",
       "           0.4137, -0.3095],\n",
       "         [ 0.0878,  0.1162,  0.1891,  0.2540, -0.3062, -0.3498, -0.3664,\n",
       "          -0.0187, -0.0367,  0.3548,  0.3735,  0.1812, -0.0254,  0.2142,\n",
       "           0.0075,  0.3483]],\n",
       "\n",
       "        [[ 0.0972,  0.0573, -0.1047, -0.0467, -0.1401, -0.8413, -0.1362,\n",
       "          -0.6747, -0.2154,  1.0993,  0.2343,  0.0326, -0.1852,  0.1478,\n",
       "          -0.6104,  1.5391],\n",
       "         [ 0.1545, -0.1026, -0.2492,  0.1041, -0.1627, -0.7844, -0.4398,\n",
       "          -0.6849, -0.2095,  0.8632,  0.2355,  0.0137, -0.1762,  0.1264,\n",
       "          -0.6703,  1.3623],\n",
       "         [ 0.3591, -0.6735, -0.7650,  0.6430, -0.2442, -0.5798, -1.5236,\n",
       "          -0.7217, -0.1891,  0.0172,  0.2393, -0.0537, -0.1441,  0.0507,\n",
       "          -0.8836,  0.7290],\n",
       "         [ 0.1893, -0.1428, -0.2553,  0.1990, -0.2454, -0.5450, -0.5237,\n",
       "          -0.6960, -0.2865,  0.3660,  0.1492,  0.0170, -0.1627,  0.1921,\n",
       "          -0.6224,  1.0241],\n",
       "         [ 0.0154,  0.5391,  0.3967, -0.5460, -0.2802, -0.0317,  0.7286,\n",
       "          -0.4372, -0.5495, -0.0808, -0.0840,  0.1312, -0.0962,  0.3494,\n",
       "          -0.2570,  0.6339],\n",
       "         [-0.0863, -0.0645,  0.1225, -0.2552, -0.0476, -0.2964, -0.2058,\n",
       "          -0.2407, -0.1796,  0.1652,  0.1846,  0.0306, -0.0122,  0.0399,\n",
       "          -0.4678,  0.4718],\n",
       "         [-0.3132,  0.5835,  0.5740, -0.8270, -0.0751, -0.1630,  0.3293,\n",
       "           0.2245, -0.0322, -0.0074, -0.0260, -0.6335,  0.3700,  0.3922,\n",
       "          -0.5330,  0.4694],\n",
       "         [-0.9743, -0.0109,  0.3368, -0.0521,  0.2160,  0.0250, -0.3730,\n",
       "           0.3319, -0.5372, -0.2131,  0.2343, -0.2207,  0.1196, -0.2035,\n",
       "          -0.5169,  0.0992]]], grad_fn=<UnsafeViewBackward0>)"
      ]
     },
     "execution_count": 59,
     "metadata": {},
     "output_type": "execute_result"
    }
   ],
   "source": [
    "out"
   ]
  },
  {
   "cell_type": "code",
   "execution_count": null,
   "id": "2c9fe82e-3b4f-4531-982d-2382534ce55b",
   "metadata": {},
   "outputs": [],
   "source": []
  }
 ],
 "metadata": {
  "kernelspec": {
   "display_name": "Python 3 (ipykernel)",
   "language": "python",
   "name": "python3"
  },
  "language_info": {
   "codemirror_mode": {
    "name": "ipython",
    "version": 3
   },
   "file_extension": ".py",
   "mimetype": "text/x-python",
   "name": "python",
   "nbconvert_exporter": "python",
   "pygments_lexer": "ipython3",
   "version": "3.10.8"
  }
 },
 "nbformat": 4,
 "nbformat_minor": 5
}
